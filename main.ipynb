{
 "cells": [
  {
   "cell_type": "code",
   "execution_count": 1,
   "metadata": {},
   "outputs": [],
   "source": [
    "import pandas as pd\n",
    "import numpy as np\n",
    "import xgboost as xgb\n",
    "from sklearn.preprocessing import LabelEncoder\n",
    "from sklearn.metrics import roc_auc_score,confusion_matrix,accuracy_score,classification_report,roc_curve\n",
    "from sklearn.model_selection import train_test_split\n",
    "import matplotlib.pyplot as plt\n",
    "from collections import OrderedDict\n",
    "\n",
    "np.random.seed(42)"
   ]
  },
  {
   "cell_type": "markdown",
   "metadata": {},
   "source": [
    "## Read Data"
   ]
  },
  {
   "cell_type": "code",
   "execution_count": 2,
   "metadata": {},
   "outputs": [],
   "source": [
    "df = pd.read_csv(\"V2_ENG_interview_dataset.csv\", dtype=str, infer_datetime_format=True)"
   ]
  },
  {
   "cell_type": "markdown",
   "metadata": {},
   "source": [
    "Drop bad rows and cols"
   ]
  },
  {
   "cell_type": "code",
   "execution_count": 3,
   "metadata": {},
   "outputs": [],
   "source": [
    "df = df.loc[df[\"Unnamed: 10\"].isna()]\n",
    "df = df.dropna(axis=1)"
   ]
  },
  {
   "cell_type": "markdown",
   "metadata": {},
   "source": [
    "Test if are bad Lines\n"
   ]
  },
  {
   "cell_type": "code",
   "execution_count": 4,
   "metadata": {},
   "outputs": [],
   "source": [
    "pd.to_numeric(df[\"Amount\"], errors=\"raise\");"
   ]
  },
  {
   "cell_type": "markdown",
   "metadata": {},
   "source": [
    "Correct Data types"
   ]
  },
  {
   "cell_type": "code",
   "execution_count": 5,
   "metadata": {},
   "outputs": [],
   "source": [
    "types = {\"Year-Month\":int, \"Agency Number\":int,\t\"Agency Name\":str, \"Cardholder Last Name\":str, \"Cardholder First Initial\":str, \"Amount\":float, \"Vendor\":str, \"Transaction Date\":str, \"Posted Date\":str,\t\"Merchant Category Code (MCC)\":str}"
   ]
  },
  {
   "cell_type": "code",
   "execution_count": 6,
   "metadata": {},
   "outputs": [],
   "source": [
    "df = df.astype(types)\n",
    "df[\"Posted Date\"] = pd.to_datetime(df[\"Posted Date\"])\n",
    "df[\"Transaction Date\"] = pd.to_datetime(df[\"Transaction Date\"])"
   ]
  },
  {
   "cell_type": "markdown",
   "metadata": {},
   "source": [
    "Format Data"
   ]
  },
  {
   "cell_type": "code",
   "execution_count": 7,
   "metadata": {},
   "outputs": [],
   "source": [
    "df[\"Days Delay\"] = (df[\"Posted Date\"] - df[\"Transaction Date\"]).dt.days\n",
    "df.insert(1, \"Year\", df[\"Year-Month\"]//100)\n",
    "df.insert(2, \"Month\", df[\"Year-Month\"]%100)\n",
    "df.drop(\"Year-Month\", axis=1, inplace=True)"
   ]
  },
  {
   "cell_type": "code",
   "execution_count": 8,
   "metadata": {},
   "outputs": [],
   "source": [
    "df_op = df.loc[df[\"Amount\"] > 0]"
   ]
  },
  {
   "cell_type": "markdown",
   "metadata": {},
   "source": [
    "Visualize Data"
   ]
  },
  {
   "cell_type": "code",
   "execution_count": 9,
   "metadata": {},
   "outputs": [
    {
     "data": {
      "text/html": [
       "<div>\n",
       "<style scoped>\n",
       "    .dataframe tbody tr th:only-of-type {\n",
       "        vertical-align: middle;\n",
       "    }\n",
       "\n",
       "    .dataframe tbody tr th {\n",
       "        vertical-align: top;\n",
       "    }\n",
       "\n",
       "    .dataframe thead th {\n",
       "        text-align: right;\n",
       "    }\n",
       "</style>\n",
       "<table border=\"1\" class=\"dataframe\">\n",
       "  <thead>\n",
       "    <tr style=\"text-align: right;\">\n",
       "      <th></th>\n",
       "      <th>Merchant Category Code (MCC)</th>\n",
       "    </tr>\n",
       "  </thead>\n",
       "  <tbody>\n",
       "    <tr>\n",
       "      <th>STATIONERY, OFFICE SUPPLIES, PRINTING AND WRITING PAPER</th>\n",
       "      <td>23998</td>\n",
       "    </tr>\n",
       "    <tr>\n",
       "      <th>BOOK STORES</th>\n",
       "      <td>21392</td>\n",
       "    </tr>\n",
       "    <tr>\n",
       "      <th>INDUSTRIAL SUPPLIES NOT ELSEWHERE CLASSIFIED</th>\n",
       "      <td>21026</td>\n",
       "    </tr>\n",
       "    <tr>\n",
       "      <th>DENTAL/LABORATORY/MEDICAL/OPHTHALMIC HOSP EQIP AND SUP.</th>\n",
       "      <td>19805</td>\n",
       "    </tr>\n",
       "    <tr>\n",
       "      <th>GROCERY STORES,AND SUPERMARKETS</th>\n",
       "      <td>16688</td>\n",
       "    </tr>\n",
       "    <tr>\n",
       "      <th>...</th>\n",
       "      <td>...</td>\n",
       "    </tr>\n",
       "    <tr>\n",
       "      <th>TAJ HOTELS INT'L</th>\n",
       "      <td>1</td>\n",
       "    </tr>\n",
       "    <tr>\n",
       "      <th>VIRGIN ATLANTIC</th>\n",
       "      <td>1</td>\n",
       "    </tr>\n",
       "    <tr>\n",
       "      <th>SWISS INTERNATIONAL AIR LINES</th>\n",
       "      <td>1</td>\n",
       "    </tr>\n",
       "    <tr>\n",
       "      <th>AMBULANCE SERVICES</th>\n",
       "      <td>1</td>\n",
       "    </tr>\n",
       "    <tr>\n",
       "      <th>COURT COST INCLUDING ALIMONY AND CHILD SUPPORT</th>\n",
       "      <td>1</td>\n",
       "    </tr>\n",
       "  </tbody>\n",
       "</table>\n",
       "<p>434 rows × 1 columns</p>\n",
       "</div>"
      ],
      "text/plain": [
       "                                                    Merchant Category Code (MCC)\n",
       "STATIONERY, OFFICE SUPPLIES, PRINTING AND WRITI...                         23998\n",
       "BOOK STORES                                                                21392\n",
       "INDUSTRIAL SUPPLIES NOT ELSEWHERE CLASSIFIED                               21026\n",
       "DENTAL/LABORATORY/MEDICAL/OPHTHALMIC HOSP EQIP ...                         19805\n",
       "GROCERY STORES,AND SUPERMARKETS                                            16688\n",
       "...                                                                          ...\n",
       "TAJ HOTELS INT'L                                                               1\n",
       "VIRGIN ATLANTIC                                                                1\n",
       "SWISS INTERNATIONAL AIR LINES                                                  1\n",
       "AMBULANCE SERVICES                                                             1\n",
       "COURT COST INCLUDING ALIMONY AND CHILD SUPPORT                                 1\n",
       "\n",
       "[434 rows x 1 columns]"
      ]
     },
     "execution_count": 9,
     "metadata": {},
     "output_type": "execute_result"
    }
   ],
   "source": [
    "pd.DataFrame(df_op['Merchant Category Code (MCC)'].value_counts())"
   ]
  },
  {
   "cell_type": "code",
   "execution_count": 10,
   "metadata": {},
   "outputs": [
    {
     "data": {
      "text/html": [
       "<div>\n",
       "<style scoped>\n",
       "    .dataframe tbody tr th:only-of-type {\n",
       "        vertical-align: middle;\n",
       "    }\n",
       "\n",
       "    .dataframe tbody tr th {\n",
       "        vertical-align: top;\n",
       "    }\n",
       "\n",
       "    .dataframe thead th {\n",
       "        text-align: right;\n",
       "    }\n",
       "</style>\n",
       "<table border=\"1\" class=\"dataframe\">\n",
       "  <thead>\n",
       "    <tr style=\"text-align: right;\">\n",
       "      <th></th>\n",
       "      <th>Cardholder Last Name</th>\n",
       "    </tr>\n",
       "  </thead>\n",
       "  <tbody>\n",
       "    <tr>\n",
       "      <th>JOURNEY HOUSE TRAVEL INC</th>\n",
       "      <td>9650</td>\n",
       "    </tr>\n",
       "    <tr>\n",
       "      <th>UNIVERSITY AMERICAN</th>\n",
       "      <td>6997</td>\n",
       "    </tr>\n",
       "    <tr>\n",
       "      <th>JOURNEY HOUSE TRAVEL</th>\n",
       "      <td>4511</td>\n",
       "    </tr>\n",
       "    <tr>\n",
       "      <th>Heusel</th>\n",
       "      <td>4050</td>\n",
       "    </tr>\n",
       "    <tr>\n",
       "      <th>Hines</th>\n",
       "      <td>3322</td>\n",
       "    </tr>\n",
       "    <tr>\n",
       "      <th>...</th>\n",
       "      <td>...</td>\n",
       "    </tr>\n",
       "    <tr>\n",
       "      <th>KRAMER</th>\n",
       "      <td>1</td>\n",
       "    </tr>\n",
       "    <tr>\n",
       "      <th>Bonds</th>\n",
       "      <td>1</td>\n",
       "    </tr>\n",
       "    <tr>\n",
       "      <th>McMaine</th>\n",
       "      <td>1</td>\n",
       "    </tr>\n",
       "    <tr>\n",
       "      <th>Cabiran</th>\n",
       "      <td>1</td>\n",
       "    </tr>\n",
       "    <tr>\n",
       "      <th>Sindelar</th>\n",
       "      <td>1</td>\n",
       "    </tr>\n",
       "  </tbody>\n",
       "</table>\n",
       "<p>3906 rows × 1 columns</p>\n",
       "</div>"
      ],
      "text/plain": [
       "                          Cardholder Last Name\n",
       "JOURNEY HOUSE TRAVEL INC                  9650\n",
       "UNIVERSITY AMERICAN                       6997\n",
       "JOURNEY HOUSE TRAVEL                      4511\n",
       "Heusel                                    4050\n",
       "Hines                                     3322\n",
       "...                                        ...\n",
       "KRAMER                                       1\n",
       "Bonds                                        1\n",
       "McMaine                                      1\n",
       "Cabiran                                      1\n",
       "Sindelar                                     1\n",
       "\n",
       "[3906 rows x 1 columns]"
      ]
     },
     "execution_count": 10,
     "metadata": {},
     "output_type": "execute_result"
    }
   ],
   "source": [
    "pd.DataFrame(df_op['Cardholder Last Name'].value_counts())"
   ]
  },
  {
   "cell_type": "code",
   "execution_count": 11,
   "metadata": {},
   "outputs": [
    {
     "data": {
      "text/html": [
       "<div>\n",
       "<style scoped>\n",
       "    .dataframe tbody tr th:only-of-type {\n",
       "        vertical-align: middle;\n",
       "    }\n",
       "\n",
       "    .dataframe tbody tr th {\n",
       "        vertical-align: top;\n",
       "    }\n",
       "\n",
       "    .dataframe thead th {\n",
       "        text-align: right;\n",
       "    }\n",
       "</style>\n",
       "<table border=\"1\" class=\"dataframe\">\n",
       "  <thead>\n",
       "    <tr style=\"text-align: right;\">\n",
       "      <th></th>\n",
       "      <th>Year</th>\n",
       "      <th>Month</th>\n",
       "      <th>Agency Number</th>\n",
       "      <th>Agency Name</th>\n",
       "      <th>Cardholder Last Name</th>\n",
       "      <th>Cardholder First Initial</th>\n",
       "      <th>Amount</th>\n",
       "      <th>Vendor</th>\n",
       "      <th>Transaction Date</th>\n",
       "      <th>Posted Date</th>\n",
       "      <th>Merchant Category Code (MCC)</th>\n",
       "      <th>Days Delay</th>\n",
       "    </tr>\n",
       "  </thead>\n",
       "  <tbody>\n",
       "    <tr>\n",
       "      <th>0</th>\n",
       "      <td>2013</td>\n",
       "      <td>7</td>\n",
       "      <td>1000</td>\n",
       "      <td>OKLAHOMA STATE UNIVERSITY</td>\n",
       "      <td>Mason</td>\n",
       "      <td>C</td>\n",
       "      <td>890.00</td>\n",
       "      <td>NACAS</td>\n",
       "      <td>2013-07-30</td>\n",
       "      <td>2013-07-31</td>\n",
       "      <td>CHARITABLE AND SOCIAL SERVICE ORGANIZATIONS</td>\n",
       "      <td>1</td>\n",
       "    </tr>\n",
       "    <tr>\n",
       "      <th>1</th>\n",
       "      <td>2013</td>\n",
       "      <td>7</td>\n",
       "      <td>1000</td>\n",
       "      <td>OKLAHOMA STATE UNIVERSITY</td>\n",
       "      <td>Mason</td>\n",
       "      <td>C</td>\n",
       "      <td>368.96</td>\n",
       "      <td>SHERATON HOTEL</td>\n",
       "      <td>2013-07-30</td>\n",
       "      <td>2013-07-31</td>\n",
       "      <td>SHERATON</td>\n",
       "      <td>1</td>\n",
       "    </tr>\n",
       "    <tr>\n",
       "      <th>2</th>\n",
       "      <td>2013</td>\n",
       "      <td>7</td>\n",
       "      <td>1000</td>\n",
       "      <td>OKLAHOMA STATE UNIVERSITY</td>\n",
       "      <td>Massey</td>\n",
       "      <td>J</td>\n",
       "      <td>165.82</td>\n",
       "      <td>SEARS.COM 9300</td>\n",
       "      <td>2013-07-29</td>\n",
       "      <td>2013-07-31</td>\n",
       "      <td>DIRCT MARKETING/DIRCT MARKETERS--NOT ELSEWHERE...</td>\n",
       "      <td>2</td>\n",
       "    </tr>\n",
       "    <tr>\n",
       "      <th>3</th>\n",
       "      <td>2013</td>\n",
       "      <td>7</td>\n",
       "      <td>1000</td>\n",
       "      <td>OKLAHOMA STATE UNIVERSITY</td>\n",
       "      <td>Massey</td>\n",
       "      <td>T</td>\n",
       "      <td>96.39</td>\n",
       "      <td>WAL-MART #0137</td>\n",
       "      <td>2013-07-30</td>\n",
       "      <td>2013-07-31</td>\n",
       "      <td>GROCERY STORES,AND SUPERMARKETS</td>\n",
       "      <td>1</td>\n",
       "    </tr>\n",
       "    <tr>\n",
       "      <th>4</th>\n",
       "      <td>2013</td>\n",
       "      <td>7</td>\n",
       "      <td>1000</td>\n",
       "      <td>OKLAHOMA STATE UNIVERSITY</td>\n",
       "      <td>Mauro-Herrera</td>\n",
       "      <td>M</td>\n",
       "      <td>125.96</td>\n",
       "      <td>STAPLES DIRECT</td>\n",
       "      <td>2013-07-30</td>\n",
       "      <td>2013-07-31</td>\n",
       "      <td>STATIONERY, OFFICE SUPPLIES, PRINTING AND WRIT...</td>\n",
       "      <td>1</td>\n",
       "    </tr>\n",
       "  </tbody>\n",
       "</table>\n",
       "</div>"
      ],
      "text/plain": [
       "   Year  Month  Agency Number                Agency Name Cardholder Last Name  \\\n",
       "0  2013      7           1000  OKLAHOMA STATE UNIVERSITY                Mason   \n",
       "1  2013      7           1000  OKLAHOMA STATE UNIVERSITY                Mason   \n",
       "2  2013      7           1000  OKLAHOMA STATE UNIVERSITY               Massey   \n",
       "3  2013      7           1000  OKLAHOMA STATE UNIVERSITY               Massey   \n",
       "4  2013      7           1000  OKLAHOMA STATE UNIVERSITY        Mauro-Herrera   \n",
       "\n",
       "  Cardholder First Initial  Amount          Vendor Transaction Date  \\\n",
       "0                        C  890.00           NACAS       2013-07-30   \n",
       "1                        C  368.96  SHERATON HOTEL       2013-07-30   \n",
       "2                        J  165.82  SEARS.COM 9300       2013-07-29   \n",
       "3                        T   96.39  WAL-MART #0137       2013-07-30   \n",
       "4                        M  125.96  STAPLES DIRECT       2013-07-30   \n",
       "\n",
       "  Posted Date                       Merchant Category Code (MCC)  Days Delay  \n",
       "0  2013-07-31        CHARITABLE AND SOCIAL SERVICE ORGANIZATIONS           1  \n",
       "1  2013-07-31                                           SHERATON           1  \n",
       "2  2013-07-31  DIRCT MARKETING/DIRCT MARKETERS--NOT ELSEWHERE...           2  \n",
       "3  2013-07-31                    GROCERY STORES,AND SUPERMARKETS           1  \n",
       "4  2013-07-31  STATIONERY, OFFICE SUPPLIES, PRINTING AND WRIT...           1  "
      ]
     },
     "execution_count": 11,
     "metadata": {},
     "output_type": "execute_result"
    }
   ],
   "source": [
    "df_op.head(5)"
   ]
  },
  {
   "cell_type": "markdown",
   "metadata": {},
   "source": [
    "##  XGBoost"
   ]
  },
  {
   "cell_type": "markdown",
   "metadata": {},
   "source": [
    "Defining constants"
   ]
  },
  {
   "cell_type": "code",
   "execution_count": 15,
   "metadata": {},
   "outputs": [],
   "source": [
    "person = 'UNIVERSITY AMERICAN'\n",
    "\n",
    "cat_vars = ['Merchant Category Code (MCC)']\n",
    "numeric_vars = ['Amount']\n",
    "categories = ['Cardholder Last Name'] + numeric_vars + cat_vars\n",
    "num_rounds = 10\n",
    "params = {\n",
    "    'max_depth':         8,\n",
    "    'max_leaves':        2**8,\n",
    "    'alpha':             0.9,\n",
    "    'eta':               0.1,\n",
    "    'gamma':             0.1,\n",
    "    'learning_rate':     0.1,\n",
    "    'subsample':         1,\n",
    "    'reg_lambda':        1,\n",
    "    'scale_pos_weight':  2,\n",
    "    'tree_method':       'gpu_hist',\n",
    "    'objective':         'binary:logistic',\n",
    "}"
   ]
  },
  {
   "cell_type": "markdown",
   "metadata": {},
   "source": [
    "Organizing dataset"
   ]
  },
  {
   "cell_type": "code",
   "execution_count": 16,
   "metadata": {},
   "outputs": [],
   "source": [
    "df_cp = df_op[categories].copy()\n",
    "df_cp[\"labels\"] = (df_cp['Cardholder Last Name'] == person)"
   ]
  },
  {
   "cell_type": "code",
   "execution_count": 17,
   "metadata": {},
   "outputs": [],
   "source": [
    "cat_data = pd.get_dummies(df_cp[cat_vars])\n",
    "numeric_data = df_cp[numeric_vars].copy()\n",
    "numeric_cat_data = pd.concat([numeric_data, cat_data], axis=1)\n",
    "numeric_cat_label_data = pd.concat([numeric_cat_data, df_cp[\"labels\"].copy()], axis=1)"
   ]
  },
  {
   "cell_type": "code",
   "execution_count": 18,
   "metadata": {},
   "outputs": [],
   "source": [
    "df_true_transations = numeric_cat_label_data.loc[numeric_cat_label_data['labels'] == True].copy()\n",
    "df_false_transations = numeric_cat_label_data.loc[numeric_cat_label_data['labels'] == False].sample(n=df_true_transations.shape[0]).copy()\n",
    "df_transations = pd.concat([df_true_transations, df_false_transations], axis=0)\n",
    "labels = df_transations['labels']\n",
    "df_transations.drop('labels', axis=1, inplace=True)"
   ]
  },
  {
   "cell_type": "markdown",
   "metadata": {},
   "source": [
    "Training model"
   ]
  },
  {
   "cell_type": "code",
   "execution_count": 19,
   "metadata": {},
   "outputs": [],
   "source": [
    "x_train, x_test, y_train, y_test = train_test_split(df_transations, labels, test_size=.25, random_state=42)\n",
    "dtrain = xgb.DMatrix(x_train, label=y_train)\n",
    "dtest = xgb.DMatrix(x_test, label=y_test)\n",
    "evals = [(dtest, 'test'), (dtrain, 'train')]"
   ]
  },
  {
   "cell_type": "code",
   "execution_count": 20,
   "metadata": {},
   "outputs": [
    {
     "name": "stdout",
     "output_type": "stream",
     "text": [
      "[0]\ttest-logloss:0.61163\ttrain-logloss:0.61192\n",
      "[1]\ttest-logloss:0.54488\ttrain-logloss:0.54545\n",
      "[2]\ttest-logloss:0.48937\ttrain-logloss:0.49021\n",
      "[3]\ttest-logloss:0.44270\ttrain-logloss:0.44374\n",
      "[4]\ttest-logloss:0.40302\ttrain-logloss:0.40431\n",
      "[5]\ttest-logloss:0.36908\ttrain-logloss:0.37059\n",
      "[6]\ttest-logloss:0.33981\ttrain-logloss:0.34154\n",
      "[7]\ttest-logloss:0.31440\ttrain-logloss:0.31643\n",
      "[8]\ttest-logloss:0.29196\ttrain-logloss:0.29425\n",
      "[9]\ttest-logloss:0.27257\ttrain-logloss:0.27496\n"
     ]
    }
   ],
   "source": [
    "model = xgb.train(params, dtrain, num_rounds, evals=evals)"
   ]
  },
  {
   "cell_type": "markdown",
   "metadata": {},
   "source": [
    "See results"
   ]
  },
  {
   "cell_type": "code",
   "execution_count": 21,
   "metadata": {},
   "outputs": [],
   "source": [
    "threshold = .5\n",
    "true_labels = y_test.astype(int)"
   ]
  },
  {
   "cell_type": "code",
   "execution_count": 22,
   "metadata": {},
   "outputs": [],
   "source": [
    "preds = model.predict(dtest)\n",
    "pred_labels = (preds > threshold).astype(int)"
   ]
  },
  {
   "cell_type": "code",
   "execution_count": 23,
   "metadata": {},
   "outputs": [
    {
     "name": "stdout",
     "output_type": "stream",
     "text": [
      "0.9816882076454956\n"
     ]
    }
   ],
   "source": [
    "auc = roc_auc_score(true_labels, preds)\n",
    "print(auc)"
   ]
  },
  {
   "cell_type": "code",
   "execution_count": 24,
   "metadata": {},
   "outputs": [
    {
     "name": "stdout",
     "output_type": "stream",
     "text": [
      "Accuracy: 0.9648470991711918\n"
     ]
    }
   ],
   "source": [
    "print ('Accuracy:', accuracy_score(true_labels, pred_labels))"
   ]
  },
  {
   "cell_type": "code",
   "execution_count": 25,
   "metadata": {},
   "outputs": [
    {
     "name": "stdout",
     "output_type": "stream",
     "text": [
      "Confusion Matrix :\n"
     ]
    },
    {
     "data": {
      "image/png": "[encoded data removed]",
      "text/plain": [
       "<Figure size 640x480 with 2 Axes>"
      ]
     },
     "metadata": {},
     "output_type": "display_data"
    }
   ],
   "source": [
    "results = confusion_matrix(true_labels, pred_labels) \n",
    "\n",
    "print ('Confusion Matrix :')\n",
    "\n",
    "def plot_confusion_matrix(cm, target_names, title='Confusion Matrix', cmap=plt.cm.Greens):\n",
    "    plt.imshow(cm, interpolation='nearest', cmap=cmap)\n",
    "    plt.title(title)\n",
    "    plt.colorbar()\n",
    "    tick_marks = np.arange(len(target_names))\n",
    "    plt.xticks(tick_marks, target_names, rotation=45)\n",
    "    plt.yticks(tick_marks, target_names)\n",
    "    plt.tight_layout()\n",
    "\n",
    "    width, height = cm.shape\n",
    "\n",
    "    for x in range(width):\n",
    "        for y in range(height):\n",
    "            plt.annotate(str(cm[x][y]), xy=(y, x), \n",
    "                        horizontalalignment='center',\n",
    "                        verticalalignment='center')\n",
    "    plt.ylabel('True Label')\n",
    "    plt.xlabel('Predicted Label')\n",
    "\n",
    "\n",
    "plot_confusion_matrix(results, ['Normal','Anomaly'])"
   ]
  },
  {
   "cell_type": "code",
   "execution_count": 26,
   "metadata": {},
   "outputs": [
    {
     "data": {
      "image/png": "[encoded data removed]",
      "text/plain": [
       "<Figure size 640x480 with 1 Axes>"
      ]
     },
     "metadata": {},
     "output_type": "display_data"
    }
   ],
   "source": [
    "fpr, tpr, thresholds = roc_curve(true_labels, pred_labels)\n",
    "roc_auc = roc_auc_score(true_labels, pred_labels)\n",
    "\n",
    "plt.figure()\n",
    "plt.plot(fpr, tpr, color='darkorange', lw=1, label='ROC curve (area = %0.2f)' % roc_auc)\n",
    "plt.plot([0, 1], [0, 1], color='navy', linestyle='--')\n",
    "plt.xlim([0.0, 1.0])\n",
    "plt.ylim([0.0, 1.05])\n",
    "plt.xlabel('False Positive Rate')\n",
    "plt.ylabel('True Positive Rate')\n",
    "plt.title('Receiver operating characteristic')\n",
    "plt.legend(loc=\"lower right\")\n",
    "plt.show()"
   ]
  },
  {
   "cell_type": "code",
   "execution_count": 27,
   "metadata": {},
   "outputs": [
    {
     "data": {
      "image/png": "[encoded data removed]",
      "text/plain": [
       "<Figure size 1000x1000 with 1 Axes>"
      ]
     },
     "metadata": {},
     "output_type": "display_data"
    }
   ],
   "source": [
    "ax = xgb.plot_importance(model)\n",
    "fig = ax.figure\n",
    "fig.set_size_inches(10, 10)"
   ]
  },
  {
   "cell_type": "markdown",
   "metadata": {},
   "source": [
    "Test for all Dataset"
   ]
  },
  {
   "cell_type": "code",
   "execution_count": 28,
   "metadata": {},
   "outputs": [],
   "source": [
    "df_true_transations = numeric_cat_label_data.loc[numeric_cat_label_data['labels'] == True].copy()\n",
    "df_false_transations = numeric_cat_label_data.loc[numeric_cat_label_data['labels'] == False].copy()\n",
    "df_transations = pd.concat([df_true_transations, df_false_transations], axis=0)\n",
    "labels = df_transations['labels']\n",
    "df_transations.drop('labels', axis=1, inplace=True)"
   ]
  },
  {
   "cell_type": "code",
   "execution_count": 29,
   "metadata": {},
   "outputs": [],
   "source": [
    "dtest = xgb.DMatrix(df_transations, label=labels)"
   ]
  },
  {
   "cell_type": "code",
   "execution_count": 30,
   "metadata": {},
   "outputs": [],
   "source": [
    "threshold = .5\n",
    "true_labels = labels.astype(int)"
   ]
  },
  {
   "cell_type": "code",
   "execution_count": 31,
   "metadata": {},
   "outputs": [],
   "source": [
    "preds = model.predict(dtest)\n",
    "pred_labels = (preds > threshold).astype(int)"
   ]
  },
  {
   "cell_type": "code",
   "execution_count": 32,
   "metadata": {},
   "outputs": [
    {
     "name": "stdout",
     "output_type": "stream",
     "text": [
      "0.9795242379842959\n"
     ]
    }
   ],
   "source": [
    "auc = roc_auc_score(true_labels, preds)\n",
    "print(auc)"
   ]
  },
  {
   "cell_type": "code",
   "execution_count": 33,
   "metadata": {},
   "outputs": [
    {
     "name": "stdout",
     "output_type": "stream",
     "text": [
      "Accuracy: 0.9514698867303322\n"
     ]
    }
   ],
   "source": [
    "print ('Accuracy:', accuracy_score(true_labels, pred_labels))"
   ]
  },
  {
   "cell_type": "markdown",
   "metadata": {},
   "source": [
    "Test for all persons"
   ]
  },
  {
   "cell_type": "code",
   "execution_count": 34,
   "metadata": {},
   "outputs": [],
   "source": [
    "def calc_accuracy(name: str):\n",
    "    df_cp[\"labels\"] = (df_cp['Cardholder Last Name'] == name)\n",
    "    cat_data = pd.get_dummies(df_cp[cat_vars])\n",
    "    numeric_data = df_cp[numeric_vars].copy()\n",
    "    numeric_cat_data = pd.concat([numeric_data, cat_data], axis=1)\n",
    "    numeric_cat_label_data = pd.concat([numeric_cat_data, df_cp[\"labels\"].copy()], axis=1)\n",
    "    df_true_transations = numeric_cat_label_data.loc[numeric_cat_label_data['labels'] == True].copy()\n",
    "    df_false_transations = numeric_cat_label_data.loc[numeric_cat_label_data['labels'] == False].sample(n=df_true_transations.shape[0]).copy()\n",
    "    df_transations = pd.concat([df_true_transations, df_false_transations], axis=0)\n",
    "    labels = df_transations['labels']\n",
    "    df_transations.drop('labels', axis=1, inplace=True)\n",
    "    x_train, x_test, y_train, y_test = train_test_split(df_transations, labels, test_size=.25, random_state=42)\n",
    "    dtrain = xgb.DMatrix(x_train, label=y_train)\n",
    "    dtest = xgb.DMatrix(x_test, label=y_test)\n",
    "    evals = [(dtest, 'test'), (dtrain, 'train')]\n",
    "    model = xgb.train(params, dtrain, num_rounds, evals=evals)\n",
    "    true_labels = y_test.astype(int)\n",
    "    preds = model.predict(dtest)\n",
    "    pred_labels = (preds > threshold).astype(int)\n",
    "    return accuracy_score(true_labels, pred_labels)"
   ]
  },
  {
   "cell_type": "code",
   "execution_count": 35,
   "metadata": {},
   "outputs": [],
   "source": [
    "persons = list(df_op['Cardholder Last Name'].unique())\n",
    "quantities = df_op['Cardholder Last Name'].value_counts()\n",
    "values = []\n",
    "names = []"
   ]
  },
  {
   "cell_type": "code",
   "execution_count": 36,
   "metadata": {},
   "outputs": [
    {
     "name": "stdout",
     "output_type": "stream",
     "text": [
      "[0]\ttest-logloss:0.67248\ttrain-logloss:0.67327\n",
      "[1]\ttest-logloss:0.65646\ttrain-logloss:0.65741\n",
      "[2]\ttest-logloss:0.64209\ttrain-logloss:0.64217\n",
      "[3]\ttest-logloss:0.62963\ttrain-logloss:0.62956\n",
      "[4]\ttest-logloss:0.62001\ttrain-logloss:0.62014\n",
      "[5]\ttest-logloss:0.61137\ttrain-logloss:0.61133\n",
      "[6]\ttest-logloss:0.60406\ttrain-logloss:0.60418\n",
      "[7]\ttest-logloss:0.59873\ttrain-logloss:0.59861\n",
      "[8]\ttest-logloss:0.59403\ttrain-logloss:0.59376\n",
      "[9]\ttest-logloss:0.59085\ttrain-logloss:0.58975\n",
      "[0]\ttest-logloss:0.68643\ttrain-logloss:0.68487\n",
      "[1]\ttest-logloss:0.68163\ttrain-logloss:0.67860\n",
      "[2]\ttest-logloss:0.67847\ttrain-logloss:0.67392\n",
      "[3]\ttest-logloss:0.67606\ttrain-logloss:0.67043\n",
      "[4]\ttest-logloss:0.67471\ttrain-logloss:0.66778\n",
      "[5]\ttest-logloss:0.67354\ttrain-logloss:0.66572\n",
      "[6]\ttest-logloss:0.67274\ttrain-logloss:0.66423\n",
      "[7]\ttest-logloss:0.67304\ttrain-logloss:0.66329\n",
      "[8]\ttest-logloss:0.67312\ttrain-logloss:0.66271\n",
      "[9]\ttest-logloss:0.67400\ttrain-logloss:0.66241\n",
      "[0]\ttest-logloss:0.68348\ttrain-logloss:0.68253\n",
      "[1]\ttest-logloss:0.67545\ttrain-logloss:0.67052\n",
      "[2]\ttest-logloss:0.66938\ttrain-logloss:0.66195\n",
      "[3]\ttest-logloss:0.66547\ttrain-logloss:0.65710\n",
      "[4]\ttest-logloss:0.66161\ttrain-logloss:0.65033\n",
      "[5]\ttest-logloss:0.65803\ttrain-logloss:0.64437\n",
      "[6]\ttest-logloss:0.65656\ttrain-logloss:0.64194\n",
      "[7]\ttest-logloss:0.65393\ttrain-logloss:0.63702\n",
      "[8]\ttest-logloss:0.65172\ttrain-logloss:0.63384\n",
      "[9]\ttest-logloss:0.65074\ttrain-logloss:0.63247\n",
      "[0]\ttest-logloss:0.67861\ttrain-logloss:0.68025\n",
      "[1]\ttest-logloss:0.66703\ttrain-logloss:0.66993\n",
      "[2]\ttest-logloss:0.65734\ttrain-logloss:0.66156\n",
      "[3]\ttest-logloss:0.64952\ttrain-logloss:0.65487\n",
      "[4]\ttest-logloss:0.64283\ttrain-logloss:0.64901\n",
      "[5]\ttest-logloss:0.63741\ttrain-logloss:0.64373\n",
      "[6]\ttest-logloss:0.63300\ttrain-logloss:0.63938\n",
      "[7]\ttest-logloss:0.62918\ttrain-logloss:0.63559\n",
      "[8]\ttest-logloss:0.62648\ttrain-logloss:0.63361\n",
      "[9]\ttest-logloss:0.62354\ttrain-logloss:0.63038\n",
      "[0]\ttest-logloss:0.67436\ttrain-logloss:0.67029\n",
      "[1]\ttest-logloss:0.66001\ttrain-logloss:0.65207\n",
      "[2]\ttest-logloss:0.64717\ttrain-logloss:0.63655\n",
      "[3]\ttest-logloss:0.63903\ttrain-logloss:0.62393\n",
      "[4]\ttest-logloss:0.63063\ttrain-logloss:0.61243\n",
      "[5]\ttest-logloss:0.62455\ttrain-logloss:0.60333\n",
      "[6]\ttest-logloss:0.61987\ttrain-logloss:0.59482\n",
      "[7]\ttest-logloss:0.61569\ttrain-logloss:0.58799\n",
      "[8]\ttest-logloss:0.61319\ttrain-logloss:0.58207\n",
      "[9]\ttest-logloss:0.61198\ttrain-logloss:0.57754\n",
      "[0]\ttest-logloss:0.67880\ttrain-logloss:0.67996\n",
      "[1]\ttest-logloss:0.66701\ttrain-logloss:0.66920\n",
      "[2]\ttest-logloss:0.65856\ttrain-logloss:0.66084\n",
      "[3]\ttest-logloss:0.65132\ttrain-logloss:0.65327\n",
      "[4]\ttest-logloss:0.64592\ttrain-logloss:0.64745\n",
      "[5]\ttest-logloss:0.64154\ttrain-logloss:0.64249\n",
      "[6]\ttest-logloss:0.63696\ttrain-logloss:0.63738\n",
      "[7]\ttest-logloss:0.63431\ttrain-logloss:0.63400\n",
      "[8]\ttest-logloss:0.63175\ttrain-logloss:0.63039\n",
      "[9]\ttest-logloss:0.62969\ttrain-logloss:0.62804\n",
      "[0]\ttest-logloss:0.65000\ttrain-logloss:0.65062\n",
      "[1]\ttest-logloss:0.61467\ttrain-logloss:0.61584\n",
      "[2]\ttest-logloss:0.58544\ttrain-logloss:0.58707\n",
      "[3]\ttest-logloss:0.56053\ttrain-logloss:0.56298\n",
      "[4]\ttest-logloss:0.53943\ttrain-logloss:0.54169\n",
      "[5]\ttest-logloss:0.52123\ttrain-logloss:0.52401\n",
      "[6]\ttest-logloss:0.50636\ttrain-logloss:0.50864\n",
      "[7]\ttest-logloss:0.49257\ttrain-logloss:0.49563\n",
      "[8]\ttest-logloss:0.47991\ttrain-logloss:0.48457\n",
      "[9]\ttest-logloss:0.47007\ttrain-logloss:0.47493\n",
      "[0]\ttest-logloss:0.66817\ttrain-logloss:0.66718\n",
      "[1]\ttest-logloss:0.64633\ttrain-logloss:0.64550\n",
      "[2]\ttest-logloss:0.62941\ttrain-logloss:0.62777\n",
      "[3]\ttest-logloss:0.61506\ttrain-logloss:0.61294\n",
      "[4]\ttest-logloss:0.60206\ttrain-logloss:0.59996\n",
      "[5]\ttest-logloss:0.59189\ttrain-logloss:0.58908\n",
      "[6]\ttest-logloss:0.58267\ttrain-logloss:0.58012\n",
      "[7]\ttest-logloss:0.57481\ttrain-logloss:0.57212\n",
      "[8]\ttest-logloss:0.56866\ttrain-logloss:0.56580\n",
      "[9]\ttest-logloss:0.56265\ttrain-logloss:0.55864\n",
      "[0]\ttest-logloss:0.65219\ttrain-logloss:0.65284\n",
      "[1]\ttest-logloss:0.61924\ttrain-logloss:0.61960\n",
      "[2]\ttest-logloss:0.59291\ttrain-logloss:0.59173\n",
      "[3]\ttest-logloss:0.57284\ttrain-logloss:0.56865\n",
      "[4]\ttest-logloss:0.55219\ttrain-logloss:0.54748\n",
      "[5]\ttest-logloss:0.54265\ttrain-logloss:0.53403\n",
      "[6]\ttest-logloss:0.52512\ttrain-logloss:0.51662\n",
      "[7]\ttest-logloss:0.51276\ttrain-logloss:0.50210\n",
      "[8]\ttest-logloss:0.50565\ttrain-logloss:0.49161\n",
      "[9]\ttest-logloss:0.49275\ttrain-logloss:0.47889\n",
      "[0]\ttest-logloss:0.68718\ttrain-logloss:0.68202\n",
      "[1]\ttest-logloss:0.68168\ttrain-logloss:0.67352\n",
      "[2]\ttest-logloss:0.67882\ttrain-logloss:0.66681\n",
      "[3]\ttest-logloss:0.67611\ttrain-logloss:0.66187\n",
      "[4]\ttest-logloss:0.67286\ttrain-logloss:0.65777\n",
      "[5]\ttest-logloss:0.67284\ttrain-logloss:0.65482\n",
      "[6]\ttest-logloss:0.67074\ttrain-logloss:0.65172\n",
      "[7]\ttest-logloss:0.67027\ttrain-logloss:0.64947\n",
      "[8]\ttest-logloss:0.66916\ttrain-logloss:0.64741\n",
      "[9]\ttest-logloss:0.66894\ttrain-logloss:0.64464\n",
      "[0]\ttest-logloss:0.68557\ttrain-logloss:0.68662\n",
      "[1]\ttest-logloss:0.68050\ttrain-logloss:0.68220\n",
      "[2]\ttest-logloss:0.67579\ttrain-logloss:0.67898\n",
      "[3]\ttest-logloss:0.67391\ttrain-logloss:0.67708\n",
      "[4]\ttest-logloss:0.67140\ttrain-logloss:0.67463\n",
      "[5]\ttest-logloss:0.66945\ttrain-logloss:0.67301\n",
      "[6]\ttest-logloss:0.66951\ttrain-logloss:0.67273\n",
      "[7]\ttest-logloss:0.66791\ttrain-logloss:0.67129\n",
      "[8]\ttest-logloss:0.66841\ttrain-logloss:0.67165\n",
      "[9]\ttest-logloss:0.66760\ttrain-logloss:0.66995\n",
      "[0]\ttest-logloss:0.68643\ttrain-logloss:0.68326\n",
      "[1]\ttest-logloss:0.68147\ttrain-logloss:0.67672\n",
      "[2]\ttest-logloss:0.67944\ttrain-logloss:0.67194\n",
      "[3]\ttest-logloss:0.67517\ttrain-logloss:0.66469\n",
      "[4]\ttest-logloss:0.67233\ttrain-logloss:0.65847\n",
      "[5]\ttest-logloss:0.67024\ttrain-logloss:0.65379\n",
      "[6]\ttest-logloss:0.66786\ttrain-logloss:0.65007\n",
      "[7]\ttest-logloss:0.66627\ttrain-logloss:0.64889\n",
      "[8]\ttest-logloss:0.66651\ttrain-logloss:0.64777\n",
      "[9]\ttest-logloss:0.66548\ttrain-logloss:0.64476\n",
      "[0]\ttest-logloss:0.67004\ttrain-logloss:0.67040\n",
      "[1]\ttest-logloss:0.65118\ttrain-logloss:0.65201\n",
      "[2]\ttest-logloss:0.63580\ttrain-logloss:0.63726\n",
      "[3]\ttest-logloss:0.62422\ttrain-logloss:0.62594\n",
      "[4]\ttest-logloss:0.61023\ttrain-logloss:0.61258\n",
      "[5]\ttest-logloss:0.59899\ttrain-logloss:0.60178\n",
      "[6]\ttest-logloss:0.58886\ttrain-logloss:0.59170\n",
      "[7]\ttest-logloss:0.57956\ttrain-logloss:0.58306\n",
      "[8]\ttest-logloss:0.57564\ttrain-logloss:0.57812\n",
      "[9]\ttest-logloss:0.56725\ttrain-logloss:0.57004\n",
      "[0]\ttest-logloss:0.67368\ttrain-logloss:0.67206\n",
      "[1]\ttest-logloss:0.65807\ttrain-logloss:0.65485\n",
      "[2]\ttest-logloss:0.64544\ttrain-logloss:0.64063\n",
      "[3]\ttest-logloss:0.63565\ttrain-logloss:0.62881\n",
      "[4]\ttest-logloss:0.62761\ttrain-logloss:0.61945\n",
      "[5]\ttest-logloss:0.62087\ttrain-logloss:0.61124\n",
      "[6]\ttest-logloss:0.61510\ttrain-logloss:0.60430\n",
      "[7]\ttest-logloss:0.61056\ttrain-logloss:0.59827\n",
      "[8]\ttest-logloss:0.60675\ttrain-logloss:0.59191\n",
      "[9]\ttest-logloss:0.60404\ttrain-logloss:0.58736\n",
      "[0]\ttest-logloss:0.68334\ttrain-logloss:0.68342\n",
      "[1]\ttest-logloss:0.67489\ttrain-logloss:0.67612\n",
      "[2]\ttest-logloss:0.66907\ttrain-logloss:0.67050\n",
      "[3]\ttest-logloss:0.66479\ttrain-logloss:0.66629\n",
      "[4]\ttest-logloss:0.66206\ttrain-logloss:0.66333\n",
      "[5]\ttest-logloss:0.65959\ttrain-logloss:0.66106\n",
      "[6]\ttest-logloss:0.65735\ttrain-logloss:0.65867\n",
      "[7]\ttest-logloss:0.65575\ttrain-logloss:0.65662\n",
      "[8]\ttest-logloss:0.65454\ttrain-logloss:0.65522\n",
      "[9]\ttest-logloss:0.65305\ttrain-logloss:0.65323\n",
      "[0]\ttest-logloss:0.67363\ttrain-logloss:0.67329\n",
      "[1]\ttest-logloss:0.65798\ttrain-logloss:0.65657\n",
      "[2]\ttest-logloss:0.64496\ttrain-logloss:0.64358\n",
      "[3]\ttest-logloss:0.63549\ttrain-logloss:0.63466\n",
      "[4]\ttest-logloss:0.62492\ttrain-logloss:0.62318\n",
      "[5]\ttest-logloss:0.61691\ttrain-logloss:0.61399\n",
      "[6]\ttest-logloss:0.61174\ttrain-logloss:0.60836\n",
      "[7]\ttest-logloss:0.60437\ttrain-logloss:0.60108\n",
      "[8]\ttest-logloss:0.60048\ttrain-logloss:0.59707\n",
      "[9]\ttest-logloss:0.59427\ttrain-logloss:0.59087\n",
      "[0]\ttest-logloss:0.68363\ttrain-logloss:0.68266\n",
      "[1]\ttest-logloss:0.67608\ttrain-logloss:0.67471\n",
      "[2]\ttest-logloss:0.66834\ttrain-logloss:0.66486\n",
      "[3]\ttest-logloss:0.66337\ttrain-logloss:0.65888\n",
      "[4]\ttest-logloss:0.65991\ttrain-logloss:0.65428\n",
      "[5]\ttest-logloss:0.65509\ttrain-logloss:0.64817\n",
      "[6]\ttest-logloss:0.65368\ttrain-logloss:0.64501\n",
      "[7]\ttest-logloss:0.65080\ttrain-logloss:0.64021\n",
      "[8]\ttest-logloss:0.64839\ttrain-logloss:0.63607\n",
      "[9]\ttest-logloss:0.64726\ttrain-logloss:0.63288\n",
      "[0]\ttest-logloss:0.67791\ttrain-logloss:0.67777\n",
      "[1]\ttest-logloss:0.66622\ttrain-logloss:0.66539\n",
      "[2]\ttest-logloss:0.65706\ttrain-logloss:0.65551\n",
      "[3]\ttest-logloss:0.64897\ttrain-logloss:0.64709\n",
      "[4]\ttest-logloss:0.64230\ttrain-logloss:0.64064\n",
      "[5]\ttest-logloss:0.63712\ttrain-logloss:0.63539\n",
      "[6]\ttest-logloss:0.63377\ttrain-logloss:0.63143\n",
      "[7]\ttest-logloss:0.63107\ttrain-logloss:0.62716\n",
      "[8]\ttest-logloss:0.62892\ttrain-logloss:0.62422\n",
      "[9]\ttest-logloss:0.62727\ttrain-logloss:0.62017\n",
      "[0]\ttest-logloss:0.66923\ttrain-logloss:0.67120\n",
      "[1]\ttest-logloss:0.64983\ttrain-logloss:0.65351\n",
      "[2]\ttest-logloss:0.63365\ttrain-logloss:0.63873\n",
      "[3]\ttest-logloss:0.62186\ttrain-logloss:0.62650\n",
      "[4]\ttest-logloss:0.60952\ttrain-logloss:0.61563\n",
      "[5]\ttest-logloss:0.60122\ttrain-logloss:0.60692\n",
      "[6]\ttest-logloss:0.59284\ttrain-logloss:0.60009\n",
      "[7]\ttest-logloss:0.58490\ttrain-logloss:0.59344\n",
      "[8]\ttest-logloss:0.57874\ttrain-logloss:0.58722\n",
      "[9]\ttest-logloss:0.57581\ttrain-logloss:0.58376\n",
      "[0]\ttest-logloss:0.67728\ttrain-logloss:0.67891\n",
      "[1]\ttest-logloss:0.66559\ttrain-logloss:0.66895\n",
      "[2]\ttest-logloss:0.65706\ttrain-logloss:0.66182\n",
      "[3]\ttest-logloss:0.64950\ttrain-logloss:0.65508\n",
      "[4]\ttest-logloss:0.64298\ttrain-logloss:0.65017\n",
      "[5]\ttest-logloss:0.63743\ttrain-logloss:0.64614\n",
      "[6]\ttest-logloss:0.63188\ttrain-logloss:0.64084\n",
      "[7]\ttest-logloss:0.62722\ttrain-logloss:0.63690\n",
      "[8]\ttest-logloss:0.62432\ttrain-logloss:0.63429\n",
      "[9]\ttest-logloss:0.61990\ttrain-logloss:0.62937\n",
      "[0]\ttest-logloss:0.67188\ttrain-logloss:0.66735\n",
      "[1]\ttest-logloss:0.65301\ttrain-logloss:0.64437\n",
      "[2]\ttest-logloss:0.63959\ttrain-logloss:0.62775\n",
      "[3]\ttest-logloss:0.62719\ttrain-logloss:0.61255\n",
      "[4]\ttest-logloss:0.61424\ttrain-logloss:0.59738\n",
      "[5]\ttest-logloss:0.60598\ttrain-logloss:0.58657\n",
      "[6]\ttest-logloss:0.59641\ttrain-logloss:0.57545\n",
      "[7]\ttest-logloss:0.58884\ttrain-logloss:0.56630\n",
      "[8]\ttest-logloss:0.58387\ttrain-logloss:0.55904\n",
      "[9]\ttest-logloss:0.57777\ttrain-logloss:0.55137\n",
      "[0]\ttest-logloss:0.67452\ttrain-logloss:0.67173\n",
      "[1]\ttest-logloss:0.65011\ttrain-logloss:0.64964\n",
      "[2]\ttest-logloss:0.63044\ttrain-logloss:0.63173\n",
      "[3]\ttest-logloss:0.61516\ttrain-logloss:0.61707\n",
      "[4]\ttest-logloss:0.60124\ttrain-logloss:0.60487\n",
      "[5]\ttest-logloss:0.58836\ttrain-logloss:0.59347\n",
      "[6]\ttest-logloss:0.57892\ttrain-logloss:0.58510\n",
      "[7]\ttest-logloss:0.56790\ttrain-logloss:0.57624\n",
      "[8]\ttest-logloss:0.55988\ttrain-logloss:0.56818\n",
      "[9]\ttest-logloss:0.55406\ttrain-logloss:0.56297\n",
      "[0]\ttest-logloss:0.67277\ttrain-logloss:0.66803\n",
      "[1]\ttest-logloss:0.65727\ttrain-logloss:0.64818\n",
      "[2]\ttest-logloss:0.64177\ttrain-logloss:0.63064\n",
      "[3]\ttest-logloss:0.62880\ttrain-logloss:0.61691\n",
      "[4]\ttest-logloss:0.61946\ttrain-logloss:0.60484\n",
      "[5]\ttest-logloss:0.60998\ttrain-logloss:0.59406\n",
      "[6]\ttest-logloss:0.60167\ttrain-logloss:0.58499\n",
      "[7]\ttest-logloss:0.59467\ttrain-logloss:0.57694\n",
      "[8]\ttest-logloss:0.58915\ttrain-logloss:0.57066\n",
      "[9]\ttest-logloss:0.58468\ttrain-logloss:0.56585\n",
      "[0]\ttest-logloss:0.68342\ttrain-logloss:0.68057\n",
      "[1]\ttest-logloss:0.67665\ttrain-logloss:0.67112\n",
      "[2]\ttest-logloss:0.67180\ttrain-logloss:0.66403\n",
      "[3]\ttest-logloss:0.66689\ttrain-logloss:0.65768\n",
      "[4]\ttest-logloss:0.66507\ttrain-logloss:0.65314\n",
      "[5]\ttest-logloss:0.66011\ttrain-logloss:0.64739\n",
      "[6]\ttest-logloss:0.65774\ttrain-logloss:0.64390\n",
      "[7]\ttest-logloss:0.65717\ttrain-logloss:0.64164\n",
      "[8]\ttest-logloss:0.65375\ttrain-logloss:0.63753\n",
      "[9]\ttest-logloss:0.65344\ttrain-logloss:0.63606\n",
      "[0]\ttest-logloss:0.63606\ttrain-logloss:0.63288\n",
      "[1]\ttest-logloss:0.58834\ttrain-logloss:0.58318\n",
      "[2]\ttest-logloss:0.54942\ttrain-logloss:0.54161\n",
      "[3]\ttest-logloss:0.51658\ttrain-logloss:0.50653\n",
      "[4]\ttest-logloss:0.48935\ttrain-logloss:0.47652\n",
      "[5]\ttest-logloss:0.46551\ttrain-logloss:0.45106\n",
      "[6]\ttest-logloss:0.44584\ttrain-logloss:0.42906\n",
      "[7]\ttest-logloss:0.42932\ttrain-logloss:0.40967\n",
      "[8]\ttest-logloss:0.41429\ttrain-logloss:0.39323\n",
      "[9]\ttest-logloss:0.40222\ttrain-logloss:0.37866\n",
      "[0]\ttest-logloss:0.61568\ttrain-logloss:0.61341\n",
      "[1]\ttest-logloss:0.55250\ttrain-logloss:0.54835\n",
      "[2]\ttest-logloss:0.50016\ttrain-logloss:0.49424\n",
      "[3]\ttest-logloss:0.45563\ttrain-logloss:0.44844\n",
      "[4]\ttest-logloss:0.41864\ttrain-logloss:0.40949\n",
      "[5]\ttest-logloss:0.38643\ttrain-logloss:0.37619\n",
      "[6]\ttest-logloss:0.35932\ttrain-logloss:0.34757\n",
      "[7]\ttest-logloss:0.33567\ttrain-logloss:0.32275\n",
      "[8]\ttest-logloss:0.31545\ttrain-logloss:0.30112\n",
      "[9]\ttest-logloss:0.29800\ttrain-logloss:0.28238\n",
      "[0]\ttest-logloss:0.68137\ttrain-logloss:0.68200\n",
      "[1]\ttest-logloss:0.67230\ttrain-logloss:0.67338\n",
      "[2]\ttest-logloss:0.66475\ttrain-logloss:0.66702\n",
      "[3]\ttest-logloss:0.65891\ttrain-logloss:0.66149\n",
      "[4]\ttest-logloss:0.65397\ttrain-logloss:0.65760\n",
      "[5]\ttest-logloss:0.65006\ttrain-logloss:0.65383\n",
      "[6]\ttest-logloss:0.64728\ttrain-logloss:0.65218\n",
      "[7]\ttest-logloss:0.64536\ttrain-logloss:0.65121\n",
      "[8]\ttest-logloss:0.64345\ttrain-logloss:0.64857\n",
      "[9]\ttest-logloss:0.64173\ttrain-logloss:0.64643\n",
      "[0]\ttest-logloss:0.67447\ttrain-logloss:0.67088\n",
      "[1]\ttest-logloss:0.66009\ttrain-logloss:0.65326\n",
      "[2]\ttest-logloss:0.64847\ttrain-logloss:0.63877\n",
      "[3]\ttest-logloss:0.63937\ttrain-logloss:0.62727\n",
      "[4]\ttest-logloss:0.63075\ttrain-logloss:0.61558\n",
      "[5]\ttest-logloss:0.62363\ttrain-logloss:0.60687\n",
      "[6]\ttest-logloss:0.61750\ttrain-logloss:0.59909\n",
      "[7]\ttest-logloss:0.61405\ttrain-logloss:0.59338\n",
      "[8]\ttest-logloss:0.61161\ttrain-logloss:0.58773\n",
      "[9]\ttest-logloss:0.60731\ttrain-logloss:0.58206\n",
      "[0]\ttest-logloss:0.61491\ttrain-logloss:0.61609\n",
      "[1]\ttest-logloss:0.55127\ttrain-logloss:0.55314\n",
      "[2]\ttest-logloss:0.49848\ttrain-logloss:0.50068\n",
      "[3]\ttest-logloss:0.45396\ttrain-logloss:0.45650\n",
      "[4]\ttest-logloss:0.41538\ttrain-logloss:0.41803\n",
      "[5]\ttest-logloss:0.38253\ttrain-logloss:0.38501\n",
      "[6]\ttest-logloss:0.35421\ttrain-logloss:0.35665\n",
      "[7]\ttest-logloss:0.32990\ttrain-logloss:0.33208\n",
      "[8]\ttest-logloss:0.30890\ttrain-logloss:0.31076\n",
      "[9]\ttest-logloss:0.29057\ttrain-logloss:0.29217\n",
      "[0]\ttest-logloss:0.65222\ttrain-logloss:0.64997\n",
      "[1]\ttest-logloss:0.61890\ttrain-logloss:0.61424\n",
      "[2]\ttest-logloss:0.59090\ttrain-logloss:0.58438\n",
      "[3]\ttest-logloss:0.56765\ttrain-logloss:0.55901\n",
      "[4]\ttest-logloss:0.54786\ttrain-logloss:0.53745\n",
      "[5]\ttest-logloss:0.53058\ttrain-logloss:0.51941\n",
      "[6]\ttest-logloss:0.51624\ttrain-logloss:0.50394\n",
      "[7]\ttest-logloss:0.50366\ttrain-logloss:0.49100\n",
      "[8]\ttest-logloss:0.49190\ttrain-logloss:0.47805\n",
      "[9]\ttest-logloss:0.48122\ttrain-logloss:0.46720\n",
      "[0]\ttest-logloss:0.66511\ttrain-logloss:0.66124\n",
      "[1]\ttest-logloss:0.64259\ttrain-logloss:0.63544\n",
      "[2]\ttest-logloss:0.62398\ttrain-logloss:0.61338\n",
      "[3]\ttest-logloss:0.60980\ttrain-logloss:0.59497\n",
      "[4]\ttest-logloss:0.59616\ttrain-logloss:0.58029\n",
      "[5]\ttest-logloss:0.58383\ttrain-logloss:0.56576\n",
      "[6]\ttest-logloss:0.57400\ttrain-logloss:0.55353\n",
      "[7]\ttest-logloss:0.56491\ttrain-logloss:0.54385\n",
      "[8]\ttest-logloss:0.55705\ttrain-logloss:0.53414\n",
      "[9]\ttest-logloss:0.55033\ttrain-logloss:0.52538\n",
      "[0]\ttest-logloss:0.61059\ttrain-logloss:0.61067\n",
      "[1]\ttest-logloss:0.54292\ttrain-logloss:0.54305\n",
      "[2]\ttest-logloss:0.48654\ttrain-logloss:0.48671\n",
      "[3]\ttest-logloss:0.43901\ttrain-logloss:0.43920\n",
      "[4]\ttest-logloss:0.39855\ttrain-logloss:0.39876\n",
      "[5]\ttest-logloss:0.36413\ttrain-logloss:0.36407\n",
      "[6]\ttest-logloss:0.33403\ttrain-logloss:0.33398\n",
      "[7]\ttest-logloss:0.30790\ttrain-logloss:0.30783\n",
      "[8]\ttest-logloss:0.28635\ttrain-logloss:0.28553\n",
      "[9]\ttest-logloss:0.26670\ttrain-logloss:0.26606\n",
      "[0]\ttest-logloss:0.64974\ttrain-logloss:0.64771\n",
      "[1]\ttest-logloss:0.61488\ttrain-logloss:0.61126\n",
      "[2]\ttest-logloss:0.58531\ttrain-logloss:0.58056\n",
      "[3]\ttest-logloss:0.56021\ttrain-logloss:0.55419\n",
      "[4]\ttest-logloss:0.53938\ttrain-logloss:0.53194\n",
      "[5]\ttest-logloss:0.52163\ttrain-logloss:0.51315\n",
      "[6]\ttest-logloss:0.50665\ttrain-logloss:0.49772\n",
      "[7]\ttest-logloss:0.49380\ttrain-logloss:0.48375\n",
      "[8]\ttest-logloss:0.48339\ttrain-logloss:0.47278\n",
      "[9]\ttest-logloss:0.47321\ttrain-logloss:0.46209\n",
      "[0]\ttest-logloss:0.60815\ttrain-logloss:0.60773\n",
      "[1]\ttest-logloss:0.53872\ttrain-logloss:0.53793\n",
      "[2]\ttest-logloss:0.48102\ttrain-logloss:0.47989\n",
      "[3]\ttest-logloss:0.43244\ttrain-logloss:0.43105\n",
      "[4]\ttest-logloss:0.39119\ttrain-logloss:0.38956\n",
      "[5]\ttest-logloss:0.35597\ttrain-logloss:0.35405\n",
      "[6]\ttest-logloss:0.32564\ttrain-logloss:0.32349\n",
      "[7]\ttest-logloss:0.29964\ttrain-logloss:0.29706\n",
      "[8]\ttest-logloss:0.27705\ttrain-logloss:0.27407\n",
      "[9]\ttest-logloss:0.25723\ttrain-logloss:0.25403\n",
      "[0]\ttest-logloss:0.61202\ttrain-logloss:0.61227\n",
      "[1]\ttest-logloss:0.54559\ttrain-logloss:0.54610\n",
      "[2]\ttest-logloss:0.49034\ttrain-logloss:0.49112\n",
      "[3]\ttest-logloss:0.44351\ttrain-logloss:0.44456\n",
      "[4]\ttest-logloss:0.40374\ttrain-logloss:0.40506\n",
      "[5]\ttest-logloss:0.36969\ttrain-logloss:0.37130\n",
      "[6]\ttest-logloss:0.34032\ttrain-logloss:0.34221\n",
      "[7]\ttest-logloss:0.31492\ttrain-logloss:0.31709\n",
      "[8]\ttest-logloss:0.29294\ttrain-logloss:0.29532\n",
      "[9]\ttest-logloss:0.27392\ttrain-logloss:0.27636\n",
      "[0]\ttest-logloss:0.61203\ttrain-logloss:0.61076\n",
      "[1]\ttest-logloss:0.54594\ttrain-logloss:0.54359\n",
      "[2]\ttest-logloss:0.49119\ttrain-logloss:0.48760\n",
      "[3]\ttest-logloss:0.44510\ttrain-logloss:0.44042\n",
      "[4]\ttest-logloss:0.40576\ttrain-logloss:0.40031\n",
      "[5]\ttest-logloss:0.37289\ttrain-logloss:0.36591\n",
      "[6]\ttest-logloss:0.34410\ttrain-logloss:0.33621\n",
      "[7]\ttest-logloss:0.31955\ttrain-logloss:0.31053\n",
      "[8]\ttest-logloss:0.29807\ttrain-logloss:0.28797\n",
      "[9]\ttest-logloss:0.27984\ttrain-logloss:0.26824\n",
      "[0]\ttest-logloss:0.65531\ttrain-logloss:0.65743\n",
      "[1]\ttest-logloss:0.62460\ttrain-logloss:0.62792\n",
      "[2]\ttest-logloss:0.59987\ttrain-logloss:0.60412\n",
      "[3]\ttest-logloss:0.57865\ttrain-logloss:0.58386\n",
      "[4]\ttest-logloss:0.56110\ttrain-logloss:0.56723\n",
      "[5]\ttest-logloss:0.54575\ttrain-logloss:0.55163\n",
      "[6]\ttest-logloss:0.53259\ttrain-logloss:0.53875\n",
      "[7]\ttest-logloss:0.52111\ttrain-logloss:0.52735\n",
      "[8]\ttest-logloss:0.51148\ttrain-logloss:0.51722\n",
      "[9]\ttest-logloss:0.50420\ttrain-logloss:0.50948\n",
      "[0]\ttest-logloss:0.60358\ttrain-logloss:0.60300\n",
      "[1]\ttest-logloss:0.53051\ttrain-logloss:0.52956\n",
      "[2]\ttest-logloss:0.46948\ttrain-logloss:0.46826\n",
      "[3]\ttest-logloss:0.41789\ttrain-logloss:0.41649\n",
      "[4]\ttest-logloss:0.37417\ttrain-logloss:0.37229\n",
      "[5]\ttest-logloss:0.33626\ttrain-logloss:0.33426\n",
      "[6]\ttest-logloss:0.30350\ttrain-logloss:0.30133\n",
      "[7]\ttest-logloss:0.27481\ttrain-logloss:0.27241\n",
      "[8]\ttest-logloss:0.25039\ttrain-logloss:0.24732\n",
      "[9]\ttest-logloss:0.22837\ttrain-logloss:0.22510\n",
      "[0]\ttest-logloss:0.60770\ttrain-logloss:0.60764\n",
      "[1]\ttest-logloss:0.53864\ttrain-logloss:0.53809\n",
      "[2]\ttest-logloss:0.48116\ttrain-logloss:0.48013\n",
      "[3]\ttest-logloss:0.43274\ttrain-logloss:0.43125\n",
      "[4]\ttest-logloss:0.39230\ttrain-logloss:0.39037\n",
      "[5]\ttest-logloss:0.35771\ttrain-logloss:0.35530\n",
      "[6]\ttest-logloss:0.32738\ttrain-logloss:0.32452\n",
      "[7]\ttest-logloss:0.30112\ttrain-logloss:0.29787\n",
      "[8]\ttest-logloss:0.27841\ttrain-logloss:0.27466\n",
      "[9]\ttest-logloss:0.25855\ttrain-logloss:0.25438\n",
      "[0]\ttest-logloss:0.60758\ttrain-logloss:0.60680\n",
      "[1]\ttest-logloss:0.53789\ttrain-logloss:0.53641\n",
      "[2]\ttest-logloss:0.47981\ttrain-logloss:0.47783\n",
      "[3]\ttest-logloss:0.43099\ttrain-logloss:0.42846\n",
      "[4]\ttest-logloss:0.38941\ttrain-logloss:0.38613\n",
      "[5]\ttest-logloss:0.35362\ttrain-logloss:0.35009\n",
      "[6]\ttest-logloss:0.32283\ttrain-logloss:0.31864\n",
      "[7]\ttest-logloss:0.29592\ttrain-logloss:0.29158\n",
      "[8]\ttest-logloss:0.27264\ttrain-logloss:0.26748\n",
      "[9]\ttest-logloss:0.25232\ttrain-logloss:0.24670\n",
      "[0]\ttest-logloss:0.64895\ttrain-logloss:0.64617\n",
      "[1]\ttest-logloss:0.61279\ttrain-logloss:0.60546\n",
      "[2]\ttest-logloss:0.58297\ttrain-logloss:0.57237\n",
      "[3]\ttest-logloss:0.55892\ttrain-logloss:0.54341\n",
      "[4]\ttest-logloss:0.53870\ttrain-logloss:0.51903\n",
      "[5]\ttest-logloss:0.51995\ttrain-logloss:0.49890\n",
      "[6]\ttest-logloss:0.50419\ttrain-logloss:0.48091\n",
      "[7]\ttest-logloss:0.49060\ttrain-logloss:0.46535\n",
      "[8]\ttest-logloss:0.48063\ttrain-logloss:0.45159\n",
      "[9]\ttest-logloss:0.47178\ttrain-logloss:0.43973\n",
      "[0]\ttest-logloss:0.64379\ttrain-logloss:0.64366\n",
      "[1]\ttest-logloss:0.60344\ttrain-logloss:0.60297\n",
      "[2]\ttest-logloss:0.56957\ttrain-logloss:0.56927\n",
      "[3]\ttest-logloss:0.54118\ttrain-logloss:0.54085\n",
      "[4]\ttest-logloss:0.51715\ttrain-logloss:0.51695\n",
      "[5]\ttest-logloss:0.49630\ttrain-logloss:0.49671\n",
      "[6]\ttest-logloss:0.47973\ttrain-logloss:0.47932\n",
      "[7]\ttest-logloss:0.46524\ttrain-logloss:0.46390\n",
      "[8]\ttest-logloss:0.45232\ttrain-logloss:0.45072\n",
      "[9]\ttest-logloss:0.44134\ttrain-logloss:0.43943\n",
      "[0]\ttest-logloss:0.60697\ttrain-logloss:0.60758\n",
      "[1]\ttest-logloss:0.53654\ttrain-logloss:0.53773\n",
      "[2]\ttest-logloss:0.47806\ttrain-logloss:0.47971\n",
      "[3]\ttest-logloss:0.42890\ttrain-logloss:0.43086\n",
      "[4]\ttest-logloss:0.38698\ttrain-logloss:0.38934\n",
      "[5]\ttest-logloss:0.35119\ttrain-logloss:0.35383\n",
      "[6]\ttest-logloss:0.32030\ttrain-logloss:0.32327\n",
      "[7]\ttest-logloss:0.29367\ttrain-logloss:0.29683\n",
      "[8]\ttest-logloss:0.27050\ttrain-logloss:0.27392\n",
      "[9]\ttest-logloss:0.25039\ttrain-logloss:0.25397\n",
      "[0]\ttest-logloss:0.64960\ttrain-logloss:0.65195\n",
      "[1]\ttest-logloss:0.61489\ttrain-logloss:0.61887\n",
      "[2]\ttest-logloss:0.58669\ttrain-logloss:0.59215\n",
      "[3]\ttest-logloss:0.55977\ttrain-logloss:0.56745\n",
      "[4]\ttest-logloss:0.54103\ttrain-logloss:0.54841\n",
      "[5]\ttest-logloss:0.52129\ttrain-logloss:0.52998\n",
      "[6]\ttest-logloss:0.50927\ttrain-logloss:0.51755\n",
      "[7]\ttest-logloss:0.49323\ttrain-logloss:0.50313\n",
      "[8]\ttest-logloss:0.47667\ttrain-logloss:0.48779\n",
      "[9]\ttest-logloss:0.46220\ttrain-logloss:0.47441\n",
      "[0]\ttest-logloss:0.66012\ttrain-logloss:0.65860\n",
      "[1]\ttest-logloss:0.63310\ttrain-logloss:0.63051\n",
      "[2]\ttest-logloss:0.60934\ttrain-logloss:0.60616\n",
      "[3]\ttest-logloss:0.58955\ttrain-logloss:0.58578\n",
      "[4]\ttest-logloss:0.57414\ttrain-logloss:0.56920\n",
      "[5]\ttest-logloss:0.55992\ttrain-logloss:0.55455\n",
      "[6]\ttest-logloss:0.54800\ttrain-logloss:0.54194\n",
      "[7]\ttest-logloss:0.53766\ttrain-logloss:0.53065\n",
      "[8]\ttest-logloss:0.52920\ttrain-logloss:0.52182\n",
      "[9]\ttest-logloss:0.52269\ttrain-logloss:0.51376\n"
     ]
    }
   ],
   "source": [
    "for person in persons:\n",
    "    if quantities[person] > 1000:\n",
    "        accuracy = calc_accuracy(person)\n",
    "        values.append(accuracy) \n",
    "        names.append(quantities[person])"
   ]
  },
  {
   "cell_type": "code",
   "execution_count": 37,
   "metadata": {},
   "outputs": [
    {
     "data": {
      "text/plain": [
       "Text(0, 0.5, 'Accuracy')"
      ]
     },
     "execution_count": 37,
     "metadata": {},
     "output_type": "execute_result"
    },
    {
     "data": {
      "image/png": "[encoded data removed]",
      "text/plain": [
       "<Figure size 640x480 with 1 Axes>"
      ]
     },
     "metadata": {},
     "output_type": "display_data"
    }
   ],
   "source": [
    "plt.figure()\n",
    "plt.plot(names, values, \".\")\n",
    "plt.title(\"Accuracy vs Operations Quantities\")\n",
    "plt.xlabel(\"Operations Quantities\")\n",
    "plt.ylabel(\"Accuracy\")"
   ]
  }
 ],
 "metadata": {
  "kernelspec": {
   "display_name": "Python 3.9.13 ('ct213')",
   "language": "python",
   "name": "python3"
  },
  "language_info": {
   "codemirror_mode": {
    "name": "ipython",
    "version": 3
   },
   "file_extension": ".py",
   "mimetype": "text/x-python",
   "name": "python",
   "nbconvert_exporter": "python",
   "pygments_lexer": "ipython3",
   "version": "3.9.7"
  },
  "orig_nbformat": 4,
  "vscode": {
   "interpreter": {
    "hash": "598095a934dcb3bb155002048116345118bc48a932469ffb0579a7d18e5f6768"
   }
  }
 },
 "nbformat": 4,
 "nbformat_minor": 2
}
