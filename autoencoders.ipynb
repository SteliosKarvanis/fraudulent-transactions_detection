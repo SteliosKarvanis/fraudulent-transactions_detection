{
 "cells": [
  {
   "cell_type": "code",
   "execution_count": 1,
   "metadata": {},
   "outputs": [],
   "source": [
    "import numpy as np\n",
    "import pandas as pd\n",
    "import matplotlib.pyplot as plt\n",
    "import os, datetime\n",
    "import xgboost as xgb\n",
    "from sklearn.preprocessing import MinMaxScaler\n",
    "from sklearn.model_selection import train_test_split\n",
    "from sklearn.metrics import mean_squared_error\n",
    "from sklearn.metrics import roc_curve, auc, confusion_matrix\n",
    "from scipy.optimize import minimize\n",
    "\n",
    "import tensorflow as tf\n",
    "from tensorflow.keras import optimizers\n",
    "from tensorflow.keras.models import Model\n",
    "from tensorflow.keras.layers import Input, Dense, Dropout, LeakyReLU\n",
    "from tensorflow.keras.utils import plot_model\n",
    "from sklearn.metrics import roc_auc_score, confusion_matrix, accuracy_score, classification_report, roc_curve\n",
    "import utils"
   ]
  },
  {
   "cell_type": "code",
   "execution_count": 2,
   "metadata": {},
   "outputs": [],
   "source": [
    "#person = 'Davis'\n",
    "person = 'JOURNEY HOUSE TRAVEL INC'\n",
    "cat_vars = ['Merchant Category Code (MCC)']\n",
    "numeric_vars = ['Amount']\n",
    "categories = ['Cardholder Last Name', 'Cardholder First Initial'] + numeric_vars + cat_vars"
   ]
  },
  {
   "cell_type": "code",
   "execution_count": 3,
   "metadata": {},
   "outputs": [],
   "source": [
    "df = utils.get_df()"
   ]
  },
  {
   "cell_type": "code",
   "execution_count": 4,
   "metadata": {},
   "outputs": [],
   "source": [
    "transations = utils.get_person_true_transations_df(df, person, categories, cat_vars, numeric_vars)\n",
    "df_transations = transations[0][0]\n",
    "labels = transations[1][0]"
   ]
  },
  {
   "cell_type": "code",
   "execution_count": 5,
   "metadata": {},
   "outputs": [],
   "source": [
    "x_train, x_test, y_train, y_test = train_test_split(df_transations, labels, test_size=.2, random_state=42)\n",
    "\n",
    "# Normalize the testing and training data using the MinMaxScaler from the scikit learn package\n",
    "scaler = MinMaxScaler()\n",
    "\n",
    "# Make sure to only fit the scaler on the training data\n",
    "x_train = scaler.fit_transform(df_transations)\n",
    "x_test = scaler.transform(x_test)\n",
    "# convert the data to FP32\n",
    "x_train = x_train.astype(np.float32)\n",
    "x_test = x_test.astype(np.float32)\n",
    "\n",
    "input_dim = x_train.shape[1]"
   ]
  },
  {
   "cell_type": "code",
   "execution_count": 6,
   "metadata": {},
   "outputs": [],
   "source": [
    "# model hyperparameters\n",
    "latent_dim = 10\n",
    "max_epochs = 15\n",
    "learning_rate = 0.001\n",
    "\n",
    "\n",
    "opt = optimizers.Adam(learning_rate=learning_rate)\n",
    "activator = tf.keras.layers.LeakyReLU(alpha=0.01)\n",
    "#activator = \"relu\""
   ]
  },
  {
   "cell_type": "code",
   "execution_count": 7,
   "metadata": {},
   "outputs": [],
   "source": [
    "def create_model():\n",
    "    input_data = Input(shape=(input_dim,), name='encoder_input')\n",
    "    \n",
    "    dimensions = [200, 100, 30]\n",
    "\n",
    "    encoder = Dense(dimensions[0],activation=activator, name='encoder_1')(input_data)\n",
    "    encoder = Dropout(.1)(encoder)\n",
    "    lay = 1\n",
    "    for num in dimensions[1:]:\n",
    "        lay += 1\n",
    "        encoder = Dense(num,activation=tf.keras.layers.LeakyReLU(alpha=0.01), name='encoder_'+str(lay))(encoder)\n",
    "        encoder = Dropout(.1)(encoder)\n",
    "        \n",
    "    latent_encoding = Dense(latent_dim, activation='linear', name='latent_encoding')(encoder)\n",
    "\n",
    "    decoder = Dense(dimensions[-1] , activation=tf.keras.layers.LeakyReLU(alpha=0.01), name='decoder_1')(latent_encoding)\n",
    "    decoder = Dropout(.1)(decoder)\n",
    "    dimensions.pop()\n",
    "\n",
    "    lay = 1\n",
    "    for num in dimensions[::-1]:\n",
    "        lay += 1\n",
    "        decoder = Dense(num, activation=tf.keras.layers.LeakyReLU(alpha=0.01), name='decoder_'+ str(lay))(decoder)\n",
    "        decoder = Dropout(.1)(decoder)\n",
    "    \n",
    "    reconstructed_data = Dense(input_dim, activation='linear', name='reconstructed_data')(decoder)\n",
    "    \n",
    "    autoencoder_model = Model(input_data, reconstructed_data)\n",
    "    encoder_model = Model(input_data, latent_encoding)\n",
    "    \n",
    "    autoencoder_model.compile(optimizer=opt, loss='mse', metrics=['accuracy'])\n",
    "    encoder_model.compile(optimizer=opt, loss='mse', metrics=['accuracy'])\n",
    "    return autoencoder_model, encoder_model"
   ]
  },
  {
   "cell_type": "code",
   "execution_count": 8,
   "metadata": {},
   "outputs": [
    {
     "name": "stderr",
     "output_type": "stream",
     "text": [
      "2022-11-28 21:28:30.518692: I tensorflow/core/platform/cpu_feature_guard.cc:151] This TensorFlow binary is optimized with oneAPI Deep Neural Network Library (oneDNN) to use the following CPU instructions in performance-critical operations:  SSE4.1 SSE4.2 AVX AVX2 AVX512F FMA\n",
      "To enable them in other operations, rebuild TensorFlow with the appropriate compiler flags.\n",
      "2022-11-28 21:28:30.519608: I tensorflow/core/common_runtime/process_util.cc:146] Creating new thread pool with default inter op setting: 2. Tune using inter_op_parallelism_threads for best performance.\n"
     ]
    }
   ],
   "source": [
    "autoencoder_model, encoder_model = create_model()"
   ]
  },
  {
   "cell_type": "code",
   "execution_count": 9,
   "metadata": {},
   "outputs": [
    {
     "name": "stdout",
     "output_type": "stream",
     "text": [
      "Model: \"model\"\n",
      "_________________________________________________________________\n",
      " Layer (type)                Output Shape              Param #   \n",
      "=================================================================\n",
      " encoder_input (InputLayer)  [(None, 435)]             0         \n",
      "                                                                 \n",
      " encoder_1 (Dense)           (None, 200)               87200     \n",
      "                                                                 \n",
      " dropout (Dropout)           (None, 200)               0         \n",
      "                                                                 \n",
      " encoder_2 (Dense)           (None, 100)               20100     \n",
      "                                                                 \n",
      " dropout_1 (Dropout)         (None, 100)               0         \n",
      "                                                                 \n",
      " encoder_3 (Dense)           (None, 30)                3030      \n",
      "                                                                 \n",
      " dropout_2 (Dropout)         (None, 30)                0         \n",
      "                                                                 \n",
      " latent_encoding (Dense)     (None, 10)                310       \n",
      "                                                                 \n",
      " decoder_1 (Dense)           (None, 30)                330       \n",
      "                                                                 \n",
      " dropout_3 (Dropout)         (None, 30)                0         \n",
      "                                                                 \n",
      " decoder_2 (Dense)           (None, 100)               3100      \n",
      "                                                                 \n",
      " dropout_4 (Dropout)         (None, 100)               0         \n",
      "                                                                 \n",
      " decoder_3 (Dense)           (None, 200)               20200     \n",
      "                                                                 \n",
      " dropout_5 (Dropout)         (None, 200)               0         \n",
      "                                                                 \n",
      " reconstructed_data (Dense)  (None, 435)               87435     \n",
      "                                                                 \n",
      "=================================================================\n",
      "Total params: 221,705\n",
      "Trainable params: 221,705\n",
      "Non-trainable params: 0\n",
      "_________________________________________________________________\n"
     ]
    }
   ],
   "source": [
    "autoencoder_model.summary()"
   ]
  },
  {
   "cell_type": "code",
   "execution_count": null,
   "metadata": {},
   "outputs": [],
   "source": [
    "batch_size = len(x_train)//10\n",
    "train_history = autoencoder_model.fit(x_train, x_train,\n",
    "        shuffle=True,\n",
    "        epochs=max_epochs,\n",
    "        batch_size=batch_size,\n",
    "        validation_data=(x_test, x_test)\n",
    "        )"
   ]
  },
  {
   "cell_type": "code",
   "execution_count": null,
   "metadata": {},
   "outputs": [],
   "source": [
    "plt.plot(train_history.history['loss'])\n",
    "plt.plot(train_history.history['val_loss'])\n",
    "plt.legend(['loss on train data', 'loss on validation data'])"
   ]
  },
  {
   "cell_type": "markdown",
   "metadata": {},
   "source": [
    "Autoencoder efficience"
   ]
  },
  {
   "cell_type": "code",
   "execution_count": null,
   "metadata": {},
   "outputs": [],
   "source": [
    "x_test_recon = autoencoder_model.predict(x_test)\n",
    "reconstruction_scores = np.mean((x_test - x_test_recon)**2, axis=1)\n",
    "plt.xlabel('Reconstruction Score')\n",
    "df_a = pd.DataFrame()\n",
    "df_a['recon_score'] = reconstruction_scores\n",
    "minim, maxim = df_a['recon_score'].min(), df_a['recon_score'].max()\n",
    "df_a['recon_score'].plot.hist(bins=200, range=[minim, maxim])"
   ]
  },
  {
   "cell_type": "code",
   "execution_count": null,
   "metadata": {},
   "outputs": [],
   "source": [
    "transations_val = utils.get_person_balanced_df(df, person, categories, cat_vars, numeric_vars)\n",
    "df_transations_val = transations_val[0][0]\n",
    "labels_val = transations_val[1][0]\n",
    "scaler = MinMaxScaler()\n",
    "x_test_val = scaler.fit_transform(df_transations_val)\n",
    "\n",
    "x_test_recon_val = autoencoder_model.predict(x_test_val)\n",
    "reconstruction_scores_val = np.mean((x_test_val - x_test_recon_val)**2, axis=1)"
   ]
  },
  {
   "cell_type": "code",
   "execution_count": null,
   "metadata": {},
   "outputs": [],
   "source": [
    "tpr, fpr, thresholds = roc_curve(labels_val, reconstruction_scores_val)\n",
    "roc_auc = auc(fpr, tpr)\n",
    "\n",
    "plt.figure(figsize=(10,10))\n",
    "plt.plot(fpr, tpr, lw=1, label='ROC curve (area = %0.2f)' % roc_auc)\n",
    "plt.plot([0, 1], [0, 1], color='lime', linestyle='--')\n",
    "plt.xlim([0.0, 1.0])\n",
    "plt.ylim([0.0, 1.05])\n",
    "plt.xlabel('False Positive Rate')\n",
    "plt.ylabel('True Positive Rate')\n",
    "plt.title('Receiver operating characteristic')\n",
    "plt.legend(loc=\"lower right\")\n",
    "plt.show()"
   ]
  },
  {
   "cell_type": "code",
   "execution_count": null,
   "metadata": {},
   "outputs": [],
   "source": [
    "optimal_threshold_idx = np.argmax(tpr - fpr)\n",
    "threshold = thresholds[optimal_threshold_idx]\n",
    "print(threshold)"
   ]
  },
  {
   "cell_type": "markdown",
   "metadata": {},
   "source": [
    "Validate Model"
   ]
  },
  {
   "cell_type": "code",
   "execution_count": null,
   "metadata": {},
   "outputs": [],
   "source": [
    "transations_val_2 = utils.get_person_total_df(df, person, categories, cat_vars, numeric_vars)\n",
    "df_transations_val_2 = transations_val_2[0][0]\n",
    "labels_val_2 = transations_val_2[1][0]\n",
    "scaler = MinMaxScaler()\n",
    "x_test_val_2 = scaler.fit_transform(df_transations_val_2)\n",
    "\n",
    "x_test_recon = autoencoder_model.predict(x_test_val_2)\n",
    "reconstruction_scores_2 = np.mean((x_test_val_2 - x_test_recon)**2, axis=1)\n",
    "anomaly_data = pd.DataFrame({'recon_score':reconstruction_scores_2})\n",
    "pred_labels_2 = (reconstruction_scores_2 < threshold).astype(int)"
   ]
  },
  {
   "cell_type": "code",
   "execution_count": null,
   "metadata": {},
   "outputs": [],
   "source": [
    "accuracy_score(pred_labels_2, labels_val_2)"
   ]
  },
  {
   "cell_type": "code",
   "execution_count": null,
   "metadata": {},
   "outputs": [],
   "source": [
    "plt.xlabel('Reconstruction Score')\n",
    "df_a = pd.DataFrame()\n",
    "df_a['recon_score'] = reconstruction_scores_2\n",
    "minim, maxim = df_a['recon_score'].min(), df_a['recon_score'].max()\n",
    "df_a['recon_score'].plot.hist(bins=200, range=[minim, maxim])"
   ]
  },
  {
   "cell_type": "code",
   "execution_count": null,
   "metadata": {},
   "outputs": [],
   "source": [
    "print ('Confusion Matrix: ')\n",
    "results = confusion_matrix(labels_val_2, pred_labels_2) \n",
    "utils.plot_confusion_matrix(results, ['Anomaly','Normal'])"
   ]
  },
  {
   "cell_type": "markdown",
   "metadata": {},
   "source": [
    "## For all persons"
   ]
  },
  {
   "cell_type": "code",
   "execution_count": 24,
   "metadata": {},
   "outputs": [],
   "source": [
    "def calc_accuracy(name: str):\n",
    "    #Train\n",
    "    transations = utils.get_person_true_transations_df(df, name, categories, cat_vars, numeric_vars)\n",
    "    if len(transations[0]) == 0:\n",
    "        return -1\n",
    "    df_transations = transations[0][0]\n",
    "    labels = transations[1][0]\n",
    "    x_train, x_test, y_train, y_test = train_test_split(df_transations, labels, test_size=.2, random_state=42)\n",
    "    scaler = MinMaxScaler()\n",
    "    x_train = scaler.fit_transform(df_transations)\n",
    "    x_test = scaler.transform(x_test)\n",
    "    x_train = x_train.astype(np.float32)\n",
    "    x_test = x_test.astype(np.float32)\n",
    "    autoencoder_model, encoder_model = create_model()\n",
    "    batch_size = len(x_train)//10\n",
    "    train_history = autoencoder_model.fit(x_train, x_train,\n",
    "        shuffle=True,\n",
    "        epochs=max_epochs,\n",
    "        batch_size=batch_size,\n",
    "        validation_data=(x_test, x_test)\n",
    "        #callbacks=[tensorboard_callback]\n",
    "        )\n",
    "    #Find Threshold\n",
    "    transations_val = utils.get_person_balanced_df(df, person, categories, cat_vars, numeric_vars)\n",
    "    df_transations_val = transations_val[0][0]\n",
    "    labels_val = transations_val[1][0]\n",
    "    scaler = MinMaxScaler()\n",
    "    x_test_val = scaler.fit_transform(df_transations_val)\n",
    "    x_test_recon_val = autoencoder_model.predict(x_test_val)\n",
    "    reconstruction_scores_val = np.mean((x_test_val - x_test_recon_val)**2, axis=1)\n",
    "    tpr, fpr, thresholds = roc_curve(labels_val, reconstruction_scores_val)\n",
    "    optimal_threshold_idx = np.argmax(tpr - fpr)\n",
    "    threshold = thresholds[optimal_threshold_idx]\n",
    "    # Validate\n",
    "    transations_val_2 = utils.get_person_total_df(df, person, categories, cat_vars, numeric_vars)\n",
    "    df_transations_val_2 = transations_val_2[0][0]\n",
    "    labels_val_2 = transations_val_2[1][0]\n",
    "    scaler = MinMaxScaler()\n",
    "    x_test_val_2 = scaler.fit_transform(df_transations_val_2)\n",
    "\n",
    "    x_test_recon = autoencoder_model.predict(x_test_val_2)\n",
    "    reconstruction_scores_2 = np.mean((x_test_val_2 - x_test_recon)**2, axis=1)\n",
    "    anomaly_data = pd.DataFrame({'recon_score':reconstruction_scores_2})\n",
    "    pred_labels_2 = (reconstruction_scores_2 < threshold).astype(int)\n",
    "\n",
    "    return accuracy_score(labels_val_2, pred_labels_2)"
   ]
  },
  {
   "cell_type": "code",
   "execution_count": 25,
   "metadata": {},
   "outputs": [
    {
     "name": "stdout",
     "output_type": "stream",
     "text": [
      "Epoch 1/15\n",
      "11/11 [==============================] - 1s 61ms/step - loss: 0.0023 - accuracy: 0.2110 - val_loss: 0.0022 - val_accuracy: 0.2374\n",
      "Epoch 2/15\n",
      "11/11 [==============================] - 0s 35ms/step - loss: 0.0021 - accuracy: 0.2402 - val_loss: 0.0018 - val_accuracy: 0.2374\n",
      "Epoch 3/15\n",
      "11/11 [==============================] - 0s 32ms/step - loss: 0.0019 - accuracy: 0.2849 - val_loss: 0.0018 - val_accuracy: 0.3151\n",
      "Epoch 4/15\n",
      "11/11 [==============================] - 0s 27ms/step - loss: 0.0018 - accuracy: 0.3352 - val_loss: 0.0016 - val_accuracy: 0.3562\n",
      "Epoch 5/15\n",
      "11/11 [==============================] - 0s 39ms/step - loss: 0.0017 - accuracy: 0.3881 - val_loss: 0.0015 - val_accuracy: 0.4566\n",
      "Epoch 6/15\n",
      "11/11 [==============================] - 0s 37ms/step - loss: 0.0016 - accuracy: 0.4484 - val_loss: 0.0015 - val_accuracy: 0.5023\n",
      "Epoch 7/15\n",
      "11/11 [==============================] - 0s 26ms/step - loss: 0.0015 - accuracy: 0.4904 - val_loss: 0.0014 - val_accuracy: 0.5023\n",
      "Epoch 8/15\n",
      "11/11 [==============================] - 0s 26ms/step - loss: 0.0014 - accuracy: 0.5050 - val_loss: 0.0013 - val_accuracy: 0.5023\n",
      "Epoch 9/15\n",
      "11/11 [==============================] - 0s 42ms/step - loss: 0.0014 - accuracy: 0.5169 - val_loss: 0.0013 - val_accuracy: 0.5023\n",
      "Epoch 10/15\n",
      "11/11 [==============================] - 0s 41ms/step - loss: 0.0013 - accuracy: 0.5169 - val_loss: 0.0012 - val_accuracy: 0.5023\n",
      "Epoch 11/15\n",
      "11/11 [==============================] - 0s 42ms/step - loss: 0.0013 - accuracy: 0.5242 - val_loss: 0.0012 - val_accuracy: 0.5023\n",
      "Epoch 12/15\n",
      "11/11 [==============================] - 1s 58ms/step - loss: 0.0013 - accuracy: 0.5251 - val_loss: 0.0012 - val_accuracy: 0.5023\n",
      "Epoch 13/15\n",
      "11/11 [==============================] - 1s 68ms/step - loss: 0.0013 - accuracy: 0.5251 - val_loss: 0.0012 - val_accuracy: 0.5023\n",
      "Epoch 14/15\n",
      "11/11 [==============================] - 1s 53ms/step - loss: 0.0013 - accuracy: 0.5279 - val_loss: 0.0012 - val_accuracy: 0.5023\n",
      "Epoch 15/15\n",
      "11/11 [==============================] - 1s 72ms/step - loss: 0.0013 - accuracy: 0.5269 - val_loss: 0.0012 - val_accuracy: 0.5023\n",
      "Epoch 1/15\n",
      "11/11 [==============================] - 1s 68ms/step - loss: 0.0022 - accuracy: 0.2670 - val_loss: 0.0019 - val_accuracy: 0.3538\n",
      "Epoch 2/15\n",
      "11/11 [==============================] - 0s 43ms/step - loss: 0.0019 - accuracy: 0.3286 - val_loss: 0.0014 - val_accuracy: 0.4670\n",
      "Epoch 3/15\n",
      "11/11 [==============================] - 1s 53ms/step - loss: 0.0016 - accuracy: 0.4186 - val_loss: 0.0012 - val_accuracy: 0.4670\n",
      "Epoch 4/15\n",
      "11/11 [==============================] - 1s 46ms/step - loss: 0.0014 - accuracy: 0.4640 - val_loss: 0.0012 - val_accuracy: 0.5896\n",
      "Epoch 5/15\n",
      "11/11 [==============================] - 0s 41ms/step - loss: 0.0014 - accuracy: 0.5057 - val_loss: 0.0012 - val_accuracy: 0.5896\n",
      "Epoch 6/15\n",
      "11/11 [==============================] - 1s 46ms/step - loss: 0.0014 - accuracy: 0.5237 - val_loss: 0.0012 - val_accuracy: 0.5943\n",
      "Epoch 7/15\n",
      "11/11 [==============================] - 0s 31ms/step - loss: 0.0013 - accuracy: 0.5095 - val_loss: 0.0011 - val_accuracy: 0.6226\n",
      "Epoch 8/15\n",
      "11/11 [==============================] - 1s 48ms/step - loss: 0.0013 - accuracy: 0.5530 - val_loss: 0.0011 - val_accuracy: 0.5519\n",
      "Epoch 9/15\n",
      "11/11 [==============================] - 0s 44ms/step - loss: 0.0013 - accuracy: 0.5710 - val_loss: 0.0010 - val_accuracy: 0.6745\n",
      "Epoch 10/15\n",
      "11/11 [==============================] - 1s 46ms/step - loss: 0.0012 - accuracy: 0.6127 - val_loss: 9.9703e-04 - val_accuracy: 0.6745\n",
      "Epoch 11/15\n",
      "11/11 [==============================] - 1s 57ms/step - loss: 0.0012 - accuracy: 0.6364 - val_loss: 9.1992e-04 - val_accuracy: 0.6745\n",
      "Epoch 12/15\n",
      "11/11 [==============================] - 0s 41ms/step - loss: 0.0011 - accuracy: 0.6402 - val_loss: 8.4687e-04 - val_accuracy: 0.6745\n",
      "Epoch 13/15\n",
      "11/11 [==============================] - 0s 34ms/step - loss: 0.0011 - accuracy: 0.6439 - val_loss: 8.3865e-04 - val_accuracy: 0.6745\n",
      "Epoch 14/15\n",
      "11/11 [==============================] - 0s 27ms/step - loss: 0.0010 - accuracy: 0.6439 - val_loss: 8.1459e-04 - val_accuracy: 0.6745\n",
      "Epoch 15/15\n",
      "11/11 [==============================] - 1s 59ms/step - loss: 0.0010 - accuracy: 0.6449 - val_loss: 8.0177e-04 - val_accuracy: 0.6745\n",
      "Epoch 1/15\n",
      "10/10 [==============================] - 1s 69ms/step - loss: 0.0022 - accuracy: 0.2585 - val_loss: 0.0019 - val_accuracy: 0.4358\n",
      "Epoch 2/15\n",
      "10/10 [==============================] - 0s 34ms/step - loss: 0.0019 - accuracy: 0.4272 - val_loss: 0.0015 - val_accuracy: 0.4358\n",
      "Epoch 3/15\n",
      "10/10 [==============================] - 0s 31ms/step - loss: 0.0014 - accuracy: 0.5022 - val_loss: 0.0012 - val_accuracy: 0.6790\n",
      "Epoch 4/15\n",
      "10/10 [==============================] - 1s 55ms/step - loss: 0.0013 - accuracy: 0.6430 - val_loss: 0.0010 - val_accuracy: 0.6790\n",
      "Epoch 5/15\n",
      "10/10 [==============================] - 0s 48ms/step - loss: 0.0011 - accuracy: 0.6635 - val_loss: 8.2663e-04 - val_accuracy: 0.6790\n",
      "Epoch 6/15\n",
      "10/10 [==============================] - 0s 27ms/step - loss: 9.5032e-04 - accuracy: 0.6931 - val_loss: 7.5061e-04 - val_accuracy: 0.7432\n",
      "Epoch 7/15\n",
      "10/10 [==============================] - 1s 56ms/step - loss: 8.8388e-04 - accuracy: 0.7151 - val_loss: 7.2468e-04 - val_accuracy: 0.7432\n",
      "Epoch 8/15\n",
      "10/10 [==============================] - 0s 39ms/step - loss: 8.4930e-04 - accuracy: 0.7198 - val_loss: 6.9774e-04 - val_accuracy: 0.7432\n",
      "Epoch 9/15\n",
      "10/10 [==============================] - 0s 45ms/step - loss: 8.2566e-04 - accuracy: 0.7205 - val_loss: 6.8862e-04 - val_accuracy: 0.7432\n",
      "Epoch 10/15\n",
      "10/10 [==============================] - 0s 44ms/step - loss: 8.0979e-04 - accuracy: 0.7190 - val_loss: 6.8787e-04 - val_accuracy: 0.7432\n",
      "Epoch 11/15\n",
      "10/10 [==============================] - 1s 49ms/step - loss: 7.9343e-04 - accuracy: 0.7237 - val_loss: 6.6960e-04 - val_accuracy: 0.7432\n",
      "Epoch 12/15\n",
      "10/10 [==============================] - 1s 58ms/step - loss: 7.7256e-04 - accuracy: 0.7262 - val_loss: 6.4900e-04 - val_accuracy: 0.7432\n",
      "Epoch 13/15\n",
      "10/10 [==============================] - 0s 46ms/step - loss: 7.4666e-04 - accuracy: 0.7390 - val_loss: 6.1712e-04 - val_accuracy: 0.7716\n",
      "Epoch 14/15\n",
      "10/10 [==============================] - 1s 52ms/step - loss: 7.1509e-04 - accuracy: 0.7602 - val_loss: 5.8596e-04 - val_accuracy: 0.8136\n",
      "Epoch 15/15\n",
      "10/10 [==============================] - 1s 52ms/step - loss: 6.8353e-04 - accuracy: 0.7837 - val_loss: 5.4715e-04 - val_accuracy: 0.8494\n",
      "Epoch 1/15\n",
      "11/11 [==============================] - 1s 41ms/step - loss: 0.0023 - accuracy: 0.1892 - val_loss: 0.0021 - val_accuracy: 0.2737\n",
      "Epoch 2/15\n",
      "11/11 [==============================] - 0s 22ms/step - loss: 0.0021 - accuracy: 0.3523 - val_loss: 0.0019 - val_accuracy: 0.3841\n",
      "Epoch 3/15\n",
      "11/11 [==============================] - 0s 20ms/step - loss: 0.0019 - accuracy: 0.4706 - val_loss: 0.0015 - val_accuracy: 0.5148\n",
      "Epoch 4/15\n",
      "11/11 [==============================] - 0s 21ms/step - loss: 0.0016 - accuracy: 0.5185 - val_loss: 0.0014 - val_accuracy: 0.5148\n",
      "Epoch 5/15\n",
      "11/11 [==============================] - 0s 27ms/step - loss: 0.0014 - accuracy: 0.5213 - val_loss: 0.0012 - val_accuracy: 0.5148\n",
      "Epoch 6/15\n",
      "11/11 [==============================] - 0s 22ms/step - loss: 0.0013 - accuracy: 0.5282 - val_loss: 0.0012 - val_accuracy: 0.5879\n",
      "Epoch 7/15\n",
      "11/11 [==============================] - 0s 22ms/step - loss: 0.0013 - accuracy: 0.5680 - val_loss: 0.0011 - val_accuracy: 0.5879\n",
      "Epoch 8/15\n",
      "11/11 [==============================] - 0s 26ms/step - loss: 0.0012 - accuracy: 0.5889 - val_loss: 0.0011 - val_accuracy: 0.5879\n",
      "Epoch 9/15\n",
      "11/11 [==============================] - 0s 15ms/step - loss: 0.0012 - accuracy: 0.5854 - val_loss: 0.0011 - val_accuracy: 0.5879\n",
      "Epoch 10/15\n",
      "11/11 [==============================] - 0s 19ms/step - loss: 0.0012 - accuracy: 0.5941 - val_loss: 0.0011 - val_accuracy: 0.5879\n",
      "Epoch 11/15\n",
      "11/11 [==============================] - 0s 20ms/step - loss: 0.0011 - accuracy: 0.5954 - val_loss: 0.0010 - val_accuracy: 0.5879\n",
      "Epoch 12/15\n",
      "11/11 [==============================] - 0s 19ms/step - loss: 0.0011 - accuracy: 0.5945 - val_loss: 9.9677e-04 - val_accuracy: 0.5879\n",
      "Epoch 13/15\n",
      "11/11 [==============================] - 0s 23ms/step - loss: 0.0011 - accuracy: 0.5948 - val_loss: 9.8638e-04 - val_accuracy: 0.5879\n",
      "Epoch 14/15\n",
      "11/11 [==============================] - 0s 27ms/step - loss: 0.0010 - accuracy: 0.6041 - val_loss: 9.8374e-04 - val_accuracy: 0.6330\n",
      "Epoch 15/15\n",
      "11/11 [==============================] - 0s 32ms/step - loss: 0.0010 - accuracy: 0.6184 - val_loss: 9.6843e-04 - val_accuracy: 0.6330\n"
     ]
    }
   ],
   "source": [
    "persons = list(df['Cardholder Last Name'].unique())\n",
    "quantities = df['Cardholder Last Name'].value_counts()\n",
    "values = []\n",
    "names = []\n",
    "\n",
    "for person in persons:\n",
    "    if quantities[person] > 1000:\n",
    "        accuracy = calc_accuracy(person)\n",
    "        if accuracy != -1:\n",
    "            values.append(accuracy) \n",
    "            names.append(quantities[person])"
   ]
  },
  {
   "cell_type": "code",
   "execution_count": null,
   "metadata": {},
   "outputs": [],
   "source": [
    "plt.figure()\n",
    "plt.plot(names, values, \".\")\n",
    "plt.title(\"Accuracy vs Operations Quantities\")\n",
    "plt.xlabel(\"Operations Quantities\")\n",
    "plt.ylabel(\"Accuracy\")"
   ]
  },
  {
   "cell_type": "code",
   "execution_count": null,
   "metadata": {},
   "outputs": [],
   "source": [
    "values"
   ]
  },
  {
   "cell_type": "code",
   "execution_count": null,
   "metadata": {},
   "outputs": [],
   "source": [
    "names"
   ]
  }
 ],
 "metadata": {
  "kernelspec": {
   "display_name": "Python 3.9.7 ('ct213')",
   "language": "python",
   "name": "python3"
  },
  "language_info": {
   "codemirror_mode": {
    "name": "ipython",
    "version": 3
   },
   "file_extension": ".py",
   "mimetype": "text/x-python",
   "name": "python",
   "nbconvert_exporter": "python",
   "pygments_lexer": "ipython3",
   "version": "3.9.7"
  },
  "orig_nbformat": 4,
  "vscode": {
   "interpreter": {
    "hash": "598095a934dcb3bb155002048116345118bc48a932469ffb0579a7d18e5f6768"
   }
  }
 },
 "nbformat": 4,
 "nbformat_minor": 2
}
