{
 "cells": [
  {
   "cell_type": "code",
   "execution_count": null,
   "metadata": {},
   "outputs": [],
   "source": [
    "import numpy as np\n",
    "import pandas as pd\n",
    "import matplotlib.pyplot as plt\n",
    "import os, datetime\n",
    "import xgboost as xgb\n",
    "from sklearn.preprocessing import MinMaxScaler\n",
    "from sklearn.model_selection import train_test_split\n",
    "from sklearn.metrics import mean_squared_error\n",
    "from sklearn.metrics import roc_curve, auc, confusion_matrix\n",
    "\n",
    "import tensorflow as tf\n",
    "from tensorflow.keras import optimizers\n",
    "from tensorflow.keras.models import Model\n",
    "from tensorflow.keras.layers import Input, Dense, Dropout, LeakyReLU\n",
    "from tensorflow.keras.utils import plot_model\n",
    "from sklearn.metrics import roc_auc_score, confusion_matrix, accuracy_score, classification_report, roc_curve\n",
    "%load_ext tensorboard\n",
    "import utils\n",
    "import pickle\n",
    "\n",
    "import random"
   ]
  },
  {
   "cell_type": "code",
   "execution_count": null,
   "metadata": {},
   "outputs": [],
   "source": [
    "#person = 'Davis'\n",
    "person = 'JOURNEY HOUSE TRAVEL INC'\n",
    "cat_vars = ['Merchant Category Code (MCC)']\n",
    "numeric_vars = ['Amount']\n",
    "categories = ['Cardholder Last Name', 'Cardholder First Initial'] + numeric_vars + cat_vars"
   ]
  },
  {
   "cell_type": "code",
   "execution_count": null,
   "metadata": {},
   "outputs": [],
   "source": [
    "df = utils.get_df()"
   ]
  },
  {
   "cell_type": "code",
   "execution_count": null,
   "metadata": {},
   "outputs": [],
   "source": [
    "transations = utils.get_person_true_transations_df(df, person, categories, cat_vars, numeric_vars)\n",
    "df_transations = transations[0][0]\n",
    "labels = transations[1][0]"
   ]
  },
  {
   "cell_type": "code",
   "execution_count": null,
   "metadata": {},
   "outputs": [],
   "source": [
    "x_train, x_test, y_train, y_test = train_test_split(df_transations, labels, test_size=.2, random_state=42)\n",
    "\n",
    "# Normalize the testing and training data using the MinMaxScaler from the scikit learn package\n",
    "scaler = MinMaxScaler()\n",
    "\n",
    "# Make sure to only fit the scaler on the training data\n",
    "x_train = scaler.fit_transform(df_transations)\n",
    "x_test = scaler.transform(x_test)\n",
    "# convert the data to FP32\n",
    "x_train = x_train.astype(np.float32)\n",
    "x_test = x_test.astype(np.float32)\n",
    "\n",
    "input_dim = x_train.shape[1]"
   ]
  },
  {
   "cell_type": "code",
   "execution_count": null,
   "metadata": {},
   "outputs": [],
   "source": [
    "# model hyperparameters\n",
    "latent_dim = 10\n",
    "max_epochs = 15\n",
    "learning_rate = 0.001\n",
    "\n",
    "\n",
    "opt = optimizers.Adam(learning_rate=learning_rate)\n",
    "activator = tf.keras.layers.LeakyReLU(alpha=0.01)"
   ]
  },
  {
   "cell_type": "code",
   "execution_count": null,
   "metadata": {},
   "outputs": [],
   "source": [
    "def create_model():\n",
    "    input_data = Input(shape=(input_dim,), name='encoder_input')\n",
    "    \n",
    "    dimensions = [200, 100, 50]\n",
    "    dim = input_dim//2\n",
    "\n",
    "    encoder = Dense(dimensions[0],activation=activator, name='encoder_1')(input_data)\n",
    "    encoder = Dropout(.1)(encoder)\n",
    "\n",
    "    lay = 1\n",
    "    for num in dimensions[1:]:\n",
    "        lay += 1\n",
    "        encoder = Dense(num,activation=tf.keras.layers.LeakyReLU(alpha=0.01), name='encoder_'+str(lay))(encoder)\n",
    "        encoder = Dropout(.1)(encoder)\n",
    "        \n",
    "    latent_encoding = Dense(latent_dim, activation='linear', name='latent_encoding')(encoder)\n",
    "\n",
    "    decoder = Dense(dimensions[-1] , activation=tf.keras.layers.LeakyReLU(alpha=0.01), name='decoder_1')(latent_encoding)\n",
    "    decoder = Dropout(.1)(decoder)\n",
    "    dimensions.pop()\n",
    "\n",
    "    lay = 1\n",
    "    for num in dimensions[::-1]:\n",
    "        lay += 1\n",
    "        decoder = Dense(num, activation=tf.keras.layers.LeakyReLU(alpha=0.01), name='decoder_'+ str(lay))(decoder)\n",
    "        decoder = Dropout(.1)(decoder)\n",
    "    \n",
    "    reconstructed_data = Dense(input_dim, activation='linear', name='reconstructed_data')(decoder)\n",
    "    \n",
    "    autoencoder_model = Model(input_data, reconstructed_data)\n",
    "    encoder_model = Model(input_data, latent_encoding)\n",
    "    autoencoder_model.compile(optimizer=opt, loss='mse', metrics=['accuracy'])\n",
    "    encoder_model.compile(optimizer=opt, loss='mse', metrics=['accuracy'])\n",
    "    return autoencoder_model, encoder_model"
   ]
  },
  {
   "cell_type": "code",
   "execution_count": null,
   "metadata": {},
   "outputs": [],
   "source": [
    "autoencoder_model, encoder_model = create_model()"
   ]
  },
  {
   "cell_type": "code",
   "execution_count": null,
   "metadata": {},
   "outputs": [],
   "source": [
    "autoencoder_model.summary()"
   ]
  },
  {
   "cell_type": "code",
   "execution_count": null,
   "metadata": {},
   "outputs": [],
   "source": [
    "#logdir = os.path.join(\"logs\", datetime.datetime.now().strftime(\"%Y%m%d-%H%M%S\"))\n",
    "#tensorboard_callback = tf.keras.callbacks.TensorBoard(logdir,profile_batch=0,update_freq='epoch',histogram_freq=1)\n",
    "batch_size = len(x_train)//10\n",
    "train_history = autoencoder_model.fit(x_train, x_train,\n",
    "        shuffle=True,\n",
    "        epochs=max_epochs,\n",
    "        batch_size=batch_size,\n",
    "        validation_data=(x_test, x_test)\n",
    "        #callbacks=[tensorboard_callback]\n",
    "        )"
   ]
  },
  {
   "cell_type": "code",
   "execution_count": null,
   "metadata": {},
   "outputs": [],
   "source": [
    "plt.plot(train_history.history['loss'])\n",
    "plt.plot(train_history.history['val_loss'])\n",
    "plt.legend(['loss on train data', 'loss on validation data'])"
   ]
  },
  {
   "cell_type": "markdown",
   "metadata": {},
   "source": [
    "Autoencoder capability"
   ]
  },
  {
   "cell_type": "code",
   "execution_count": null,
   "metadata": {},
   "outputs": [],
   "source": [
    "x_test_recon = autoencoder_model.predict(x_test)\n",
    "reconstruction_scores = np.mean((x_test - x_test_recon)**2, axis=1)\n",
    "plt.xlabel('Reconstruction Score')\n",
    "df_a = pd.DataFrame()\n",
    "df_a['recon_score'] = reconstruction_scores\n",
    "minim, maxim = df_a['recon_score'].min(), df_a['recon_score'].max()\n",
    "df_a['recon_score'].plot.hist(bins=200, range=[minim, maxim])"
   ]
  },
  {
   "cell_type": "code",
   "execution_count": null,
   "metadata": {},
   "outputs": [],
   "source": [
    "transations_val = utils.get_person_balanced_df(df, person, categories, cat_vars, numeric_vars)\n",
    "df_transations_val = transations_val[0][0]\n",
    "labels_val = transations_val[1][0]\n",
    "scaler = MinMaxScaler()\n",
    "x_test_val = scaler.fit_transform(df_transations_val)\n",
    "\n",
    "x_test_recon_val = autoencoder_model.predict(x_test_val)\n",
    "reconstruction_scores_val = np.mean((x_test_val - x_test_recon_val)**2, axis=1)\n",
    "anomaly_data = pd.DataFrame({'recon_score':reconstruction_scores_val})\n",
    "threshold = anomaly_data['recon_score'].median()\n",
    "print(\"Threshold: \", threshold)"
   ]
  },
  {
   "cell_type": "code",
   "execution_count": null,
   "metadata": {},
   "outputs": [],
   "source": [
    "transations_val_2 = utils.get_person_total_df(df, person, categories, cat_vars, numeric_vars)\n",
    "df_transations_val_2 = transations_val_2[0][0]\n",
    "labels_val_2 = transations_val_2[1][0]\n",
    "scaler = MinMaxScaler()\n",
    "x_test_val_2 = scaler.fit_transform(df_transations_val_2)\n",
    "\n",
    "x_test_recon = autoencoder_model.predict(x_test_val_2)\n",
    "reconstruction_scores_2 = np.mean((x_test_val_2 - x_test_recon)**2, axis=1)\n",
    "anomaly_data = pd.DataFrame({'recon_score':reconstruction_scores_2})\n",
    "pred_labels_2 = (reconstruction_scores_2 < threshold).astype(int)"
   ]
  },
  {
   "cell_type": "code",
   "execution_count": null,
   "metadata": {},
   "outputs": [],
   "source": [
    "accuracy_score(pred_labels_2, labels_val_2)"
   ]
  },
  {
   "cell_type": "code",
   "execution_count": null,
   "metadata": {},
   "outputs": [],
   "source": [
    "plt.xlabel('Reconstruction Score')\n",
    "df_a = pd.DataFrame()\n",
    "df_a['recon_score'] = reconstruction_scores_2\n",
    "minim, maxim = df_a['recon_score'].min(), df_a['recon_score'].max()\n",
    "df_a['recon_score'].plot.hist(bins=200, range=[minim, maxim])"
   ]
  },
  {
   "cell_type": "code",
   "execution_count": null,
   "metadata": {},
   "outputs": [],
   "source": [
    "print ('Confusion Matrix: ')\n",
    "results = confusion_matrix(labels_val_2, pred_labels_2) \n",
    "utils.plot_confusion_matrix(results, ['Anomaly','Normal'])"
   ]
  },
  {
   "cell_type": "markdown",
   "metadata": {},
   "source": [
    "## For all persons"
   ]
  },
  {
   "cell_type": "code",
   "execution_count": null,
   "metadata": {},
   "outputs": [],
   "source": [
    "def calc_accuracy(name: str):\n",
    "    #Train\n",
    "    transations = utils.get_person_true_transations_df(df, person, categories, cat_vars, numeric_vars)\n",
    "    df_transations = transations[0][0]\n",
    "    labels = transations[1][0]\n",
    "    x_train, x_test, y_train, y_test = train_test_split(df_transations, labels, test_size=.2, random_state=42)\n",
    "    scaler = MinMaxScaler()\n",
    "    x_train = scaler.fit_transform(df_transations)\n",
    "    x_test = scaler.transform(x_test)\n",
    "    x_train = x_train.astype(np.float32)\n",
    "    x_test = x_test.astype(np.float32)\n",
    "    autoencoder_model, encoder_model = create_model()\n",
    "    batch_size = len(x_train)//10\n",
    "    train_history = autoencoder_model.fit(x_train, x_train,\n",
    "        shuffle=True,\n",
    "        epochs=max_epochs,\n",
    "        batch_size=batch_size,\n",
    "        validation_data=(x_test, x_test)\n",
    "        #callbacks=[tensorboard_callback]\n",
    "        )\n",
    "    #Find Threshold\n",
    "    transations_val = utils.get_person_balanced_df(df, person, categories, cat_vars, numeric_vars)\n",
    "    df_transations_val = transations_val[0][0]\n",
    "    labels_val = transations_val[1][0]\n",
    "    scaler = MinMaxScaler()\n",
    "    x_test_val = scaler.fit_transform(df_transations_val)\n",
    "    x_test_recon_val = autoencoder_model.predict(x_test_val)\n",
    "    reconstruction_scores_val = np.mean((x_test_val - x_test_recon_val)**2, axis=1)\n",
    "    anomaly_data = pd.DataFrame({'recon_score':reconstruction_scores_val})\n",
    "    threshold = anomaly_data['recon_score'].median()\n",
    "    \n",
    "    # Validate\n",
    "    transations_val_2 = utils.get_person_total_df(df, person, categories, cat_vars, numeric_vars)\n",
    "    df_transations_val_2 = transations_val_2[0][0]\n",
    "    labels_val_2 = transations_val_2[1][0]\n",
    "    scaler = MinMaxScaler()\n",
    "    x_test_val_2 = scaler.fit_transform(df_transations_val_2)\n",
    "\n",
    "    x_test_recon = autoencoder_model.predict(x_test_val_2)\n",
    "    reconstruction_scores_2 = np.mean((x_test_val_2 - x_test_recon)**2, axis=1)\n",
    "    anomaly_data = pd.DataFrame({'recon_score':reconstruction_scores_2})\n",
    "    pred_labels_2 = (reconstruction_scores_2 < threshold).astype(int)\n",
    "\n",
    "    return accuracy_score(labels_val_2, pred_labels_2)"
   ]
  },
  {
   "cell_type": "code",
   "execution_count": null,
   "metadata": {},
   "outputs": [],
   "source": [
    "persons = list(df['Cardholder Last Name'].unique())\n",
    "quantities = df['Cardholder Last Name'].value_counts()\n",
    "values = []\n",
    "names = []\n",
    "\n",
    "for person in persons:\n",
    "    if quantities[person] > 2000:\n",
    "        accuracy = calc_accuracy(person)\n",
    "        values.append(accuracy) \n",
    "        names.append(quantities[person])"
   ]
  },
  {
   "cell_type": "code",
   "execution_count": null,
   "metadata": {},
   "outputs": [],
   "source": [
    "plt.figure()\n",
    "plt.plot(names, values, \".\")\n",
    "plt.title(\"Accuracy vs Operations Quantities\")\n",
    "plt.xlabel(\"Operations Quantities\")\n",
    "plt.ylabel(\"Accuracy\")"
   ]
  },
  {
   "cell_type": "code",
   "execution_count": null,
   "metadata": {},
   "outputs": [],
   "source": [
    "values"
   ]
  },
  {
   "cell_type": "code",
   "execution_count": null,
   "metadata": {},
   "outputs": [],
   "source": [
    "names"
   ]
  }
 ],
 "metadata": {
  "kernelspec": {
   "display_name": "Python 3.9.7 ('ct213')",
   "language": "python",
   "name": "python3"
  },
  "language_info": {
   "codemirror_mode": {
    "name": "ipython",
    "version": 3
   },
   "file_extension": ".py",
   "mimetype": "text/x-python",
   "name": "python",
   "nbconvert_exporter": "python",
   "pygments_lexer": "ipython3",
   "version": "3.9.7"
  },
  "orig_nbformat": 4,
  "vscode": {
   "interpreter": {
    "hash": "598095a934dcb3bb155002048116345118bc48a932469ffb0579a7d18e5f6768"
   }
  }
 },
 "nbformat": 4,
 "nbformat_minor": 2
}
