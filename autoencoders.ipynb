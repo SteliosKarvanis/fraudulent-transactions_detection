{
 "cells": [
  {
   "cell_type": "code",
   "execution_count": 1,
   "metadata": {},
   "outputs": [],
   "source": [
    "import numpy as np\n",
    "import pandas as pd\n",
    "import matplotlib.pyplot as plt\n",
    "import os, datetime\n",
    "\n",
    "from sklearn.preprocessing import MinMaxScaler\n",
    "from sklearn.model_selection import train_test_split\n",
    "from sklearn.metrics import mean_squared_error\n",
    "from sklearn.metrics import roc_curve, auc, confusion_matrix\n",
    "\n",
    "import tensorflow as tf\n",
    "from tensorflow.keras import optimizers\n",
    "from tensorflow.keras.models import Model\n",
    "from tensorflow.keras.layers import Input, Dense, Dropout, LeakyReLU\n",
    "from tensorflow.keras.utils import plot_model\n",
    "from sklearn.metrics import roc_auc_score, confusion_matrix, accuracy_score, classification_report, roc_curve\n",
    "%load_ext tensorboard\n",
    "import utils\n",
    "import pickle\n",
    "\n",
    "import random"
   ]
  },
  {
   "cell_type": "code",
   "execution_count": 2,
   "metadata": {},
   "outputs": [],
   "source": [
    "#person = 'Davis'\n",
    "person = 'JOURNEY HOUSE TRAVEL INC'\n",
    "cat_vars = ['Merchant Category Code (MCC)']\n",
    "numeric_vars = ['Amount']\n",
    "categories = ['Cardholder Last Name', 'Cardholder First Initial'] + numeric_vars + cat_vars"
   ]
  },
  {
   "cell_type": "code",
   "execution_count": 3,
   "metadata": {},
   "outputs": [],
   "source": [
    "df = utils.get_df()"
   ]
  },
  {
   "cell_type": "code",
   "execution_count": 4,
   "metadata": {},
   "outputs": [],
   "source": [
    "transations = utils.get_person_true_transations_df(df, person, categories, cat_vars, numeric_vars)\n",
    "df_transations = transations[0][0]\n",
    "labels = transations[1][0]"
   ]
  },
  {
   "cell_type": "code",
   "execution_count": 5,
   "metadata": {},
   "outputs": [],
   "source": [
    "x_train, x_test, y_train, y_test = train_test_split(df_transations, labels, test_size=.2, random_state=42)\n",
    "\n",
    "# Normalize the testing and training data using the MinMaxScaler from the scikit learn package\n",
    "scaler = MinMaxScaler()\n",
    "\n",
    "# Make sure to only fit the scaler on the training data\n",
    "x_train = scaler.fit_transform(df_transations)\n",
    "x_test = scaler.transform(x_test)\n",
    "# convert the data to FP32\n",
    "x_train = x_train.astype(np.float32)\n",
    "x_test = x_test.astype(np.float32)\n",
    "\n",
    "input_dim = x_train.shape[1]"
   ]
  },
  {
   "cell_type": "code",
   "execution_count": 6,
   "metadata": {},
   "outputs": [],
   "source": [
    "# model hyperparameters\n",
    "latent_dim = 10\n",
    "max_epochs = 15\n",
    "learning_rate = 0.001\n",
    "\n",
    "\n",
    "opt = optimizers.Adam(learning_rate=learning_rate)\n",
    "activator = tf.keras.layers.LeakyReLU(alpha=0.01)"
   ]
  },
  {
   "cell_type": "code",
   "execution_count": 7,
   "metadata": {},
   "outputs": [],
   "source": [
    "def create_model():\n",
    "    input_data = Input(shape=(input_dim,), name='encoder_input')\n",
    "    \n",
    "    dimensions = [200, 100, 50]\n",
    "    dim = input_dim//2\n",
    "    #while dim > 2*latent_dim:\n",
    "    #    dimensions.append(dim)\n",
    "    #    dim = dim//3\n",
    "\n",
    "    encoder = Dense(dimensions[0],activation=activator, name='encoder_1')(input_data)\n",
    "    encoder = Dropout(.1)(encoder)\n",
    "\n",
    "    lay = 1\n",
    "    for num in dimensions[1:]:\n",
    "        lay += 1\n",
    "        encoder = Dense(num,activation=tf.keras.layers.LeakyReLU(alpha=0.01), name='encoder_'+str(lay))(encoder)\n",
    "        encoder = Dropout(.1)(encoder)\n",
    "        \n",
    "    latent_encoding = Dense(latent_dim, activation='linear', name='latent_encoding')(encoder)\n",
    "\n",
    "    decoder = Dense(dimensions[-1] , activation=tf.keras.layers.LeakyReLU(alpha=0.01), name='decoder_1')(latent_encoding)\n",
    "    decoder = Dropout(.1)(decoder)\n",
    "    dimensions.pop()\n",
    "\n",
    "    lay = 1\n",
    "    for num in dimensions[::-1]:\n",
    "        lay += 1\n",
    "        decoder = Dense(num, activation=tf.keras.layers.LeakyReLU(alpha=0.01), name='decoder_'+ str(lay))(decoder)\n",
    "        decoder = Dropout(.1)(decoder)\n",
    "    \n",
    "    reconstructed_data = Dense(input_dim, activation='linear', name='reconstructed_data')(decoder)\n",
    "    \n",
    "    autoencoder_model = Model(input_data, reconstructed_data)\n",
    "    encoder_model = Model(input_data, latent_encoding)\n",
    "    autoencoder_model.compile(optimizer=opt, loss='mse', metrics=['accuracy'])\n",
    "    encoder_model.compile(optimizer=opt, loss='mse', metrics=['accuracy'])\n",
    "    return autoencoder_model, encoder_model"
   ]
  },
  {
   "cell_type": "code",
   "execution_count": 16,
   "metadata": {},
   "outputs": [],
   "source": [
    "autoencoder_model, encoder_model = create_model()"
   ]
  },
  {
   "cell_type": "code",
   "execution_count": 17,
   "metadata": {},
   "outputs": [
    {
     "name": "stdout",
     "output_type": "stream",
     "text": [
      "Model: \"model_2\"\n",
      "_________________________________________________________________\n",
      " Layer (type)                Output Shape              Param #   \n",
      "=================================================================\n",
      " encoder_input (InputLayer)  [(None, 435)]             0         \n",
      "                                                                 \n",
      " encoder_1 (Dense)           (None, 200)               87200     \n",
      "                                                                 \n",
      " dropout_6 (Dropout)         (None, 200)               0         \n",
      "                                                                 \n",
      " encoder_2 (Dense)           (None, 100)               20100     \n",
      "                                                                 \n",
      " dropout_7 (Dropout)         (None, 100)               0         \n",
      "                                                                 \n",
      " encoder_3 (Dense)           (None, 50)                5050      \n",
      "                                                                 \n",
      " dropout_8 (Dropout)         (None, 50)                0         \n",
      "                                                                 \n",
      " latent_encoding (Dense)     (None, 10)                510       \n",
      "                                                                 \n",
      " decoder_1 (Dense)           (None, 50)                550       \n",
      "                                                                 \n",
      " dropout_9 (Dropout)         (None, 50)                0         \n",
      "                                                                 \n",
      " decoder_2 (Dense)           (None, 100)               5100      \n",
      "                                                                 \n",
      " dropout_10 (Dropout)        (None, 100)               0         \n",
      "                                                                 \n",
      " decoder_3 (Dense)           (None, 200)               20200     \n",
      "                                                                 \n",
      " dropout_11 (Dropout)        (None, 200)               0         \n",
      "                                                                 \n",
      " reconstructed_data (Dense)  (None, 435)               87435     \n",
      "                                                                 \n",
      "=================================================================\n",
      "Total params: 226,145\n",
      "Trainable params: 226,145\n",
      "Non-trainable params: 0\n",
      "_________________________________________________________________\n"
     ]
    }
   ],
   "source": [
    "autoencoder_model.summary()"
   ]
  },
  {
   "cell_type": "code",
   "execution_count": 18,
   "metadata": {},
   "outputs": [
    {
     "name": "stdout",
     "output_type": "stream",
     "text": [
      "Epoch 1/15\n",
      "10/10 [==============================] - 1s 125ms/step - loss: 0.0021 - accuracy: 0.4106 - val_loss: 0.0016 - val_accuracy: 0.4534\n",
      "Epoch 2/15\n",
      "10/10 [==============================] - 1s 104ms/step - loss: 0.0015 - accuracy: 0.5668 - val_loss: 0.0011 - val_accuracy: 0.7010\n",
      "Epoch 3/15\n",
      "10/10 [==============================] - 1s 101ms/step - loss: 0.0011 - accuracy: 0.7104 - val_loss: 7.0125e-04 - val_accuracy: 0.7010\n",
      "Epoch 4/15\n",
      "10/10 [==============================] - 1s 117ms/step - loss: 7.8549e-04 - accuracy: 0.8340 - val_loss: 5.2809e-04 - val_accuracy: 0.8798\n",
      "Epoch 5/15\n",
      "10/10 [==============================] - 1s 111ms/step - loss: 6.0866e-04 - accuracy: 0.8960 - val_loss: 3.6701e-04 - val_accuracy: 0.8798\n",
      "Epoch 6/15\n",
      "10/10 [==============================] - 1s 122ms/step - loss: 4.6662e-04 - accuracy: 0.9040 - val_loss: 2.7746e-04 - val_accuracy: 0.8798\n",
      "Epoch 7/15\n",
      "10/10 [==============================] - 1s 122ms/step - loss: 3.8309e-04 - accuracy: 0.9512 - val_loss: 2.2655e-04 - val_accuracy: 0.9715\n",
      "Epoch 8/15\n",
      "10/10 [==============================] - 1s 130ms/step - loss: 3.2927e-04 - accuracy: 0.9731 - val_loss: 1.9737e-04 - val_accuracy: 0.9715\n",
      "Epoch 9/15\n",
      "10/10 [==============================] - 1s 105ms/step - loss: 2.8808e-04 - accuracy: 0.9747 - val_loss: 1.6551e-04 - val_accuracy: 0.9715\n",
      "Epoch 10/15\n",
      "10/10 [==============================] - 1s 119ms/step - loss: 2.4836e-04 - accuracy: 0.9746 - val_loss: 1.3312e-04 - val_accuracy: 0.9715\n",
      "Epoch 11/15\n",
      "10/10 [==============================] - 1s 128ms/step - loss: 2.1158e-04 - accuracy: 0.9747 - val_loss: 9.1035e-05 - val_accuracy: 0.9715\n",
      "Epoch 12/15\n",
      "10/10 [==============================] - 1s 132ms/step - loss: 1.8196e-04 - accuracy: 0.9748 - val_loss: 8.4140e-05 - val_accuracy: 0.9715\n",
      "Epoch 13/15\n",
      "10/10 [==============================] - 1s 139ms/step - loss: 1.6744e-04 - accuracy: 0.9748 - val_loss: 7.6889e-05 - val_accuracy: 0.9715\n",
      "Epoch 14/15\n",
      "10/10 [==============================] - 1s 138ms/step - loss: 1.5532e-04 - accuracy: 0.9748 - val_loss: 7.5245e-05 - val_accuracy: 0.9715\n",
      "Epoch 15/15\n",
      "10/10 [==============================] - 1s 118ms/step - loss: 1.4656e-04 - accuracy: 0.9748 - val_loss: 7.4638e-05 - val_accuracy: 0.9715\n"
     ]
    }
   ],
   "source": [
    "#logdir = os.path.join(\"logs\", datetime.datetime.now().strftime(\"%Y%m%d-%H%M%S\"))\n",
    "#tensorboard_callback = tf.keras.callbacks.TensorBoard(logdir,profile_batch=0,update_freq='epoch',histogram_freq=1)\n",
    "batch_size = len(x_train)//10\n",
    "train_history = autoencoder_model.fit(x_train, x_train,\n",
    "        shuffle=True,\n",
    "        epochs=max_epochs,\n",
    "        batch_size=batch_size,\n",
    "        validation_data=(x_test, x_test)\n",
    "        #callbacks=[tensorboard_callback]\n",
    "        )"
   ]
  },
  {
   "cell_type": "code",
   "execution_count": 20,
   "metadata": {},
   "outputs": [
    {
     "data": {
      "text/plain": [
       "<matplotlib.legend.Legend at 0x7f155c5a51f0>"
      ]
     },
     "execution_count": 20,
     "metadata": {},
     "output_type": "execute_result"
    },
    {
     "data": {
      "image/png": "[encoded data removed]",
      "text/plain": [
       "<Figure size 640x480 with 1 Axes>"
      ]
     },
     "metadata": {},
     "output_type": "display_data"
    }
   ],
   "source": [
    "plt.plot(train_history.history['loss'])\n",
    "plt.plot(train_history.history['val_loss'])\n",
    "plt.legend(['loss on train data', 'loss on validation data'])"
   ]
  },
  {
   "cell_type": "markdown",
   "metadata": {},
   "source": [
    "Autoencoder capability"
   ]
  },
  {
   "cell_type": "code",
   "execution_count": 21,
   "metadata": {},
   "outputs": [
    {
     "data": {
      "text/plain": [
       "<AxesSubplot:xlabel='Reconstruction Score', ylabel='Frequency'>"
      ]
     },
     "execution_count": 21,
     "metadata": {},
     "output_type": "execute_result"
    },
    {
     "data": {
      "image/png": "[encoded data removed]",
      "text/plain": [
       "<Figure size 640x480 with 1 Axes>"
      ]
     },
     "metadata": {},
     "output_type": "display_data"
    }
   ],
   "source": [
    "x_test_recon = autoencoder_model.predict(x_test)\n",
    "reconstruction_scores = np.mean((x_test - x_test_recon)**2, axis=1)\n",
    "plt.xlabel('Reconstruction Score')\n",
    "df_a = pd.DataFrame()\n",
    "df_a['recon_score'] = reconstruction_scores\n",
    "minim, maxim = df_a['recon_score'].min(), df_a['recon_score'].max()\n",
    "df_a['recon_score'].plot.hist(bins=200, range=[minim, maxim])"
   ]
  },
  {
   "cell_type": "code",
   "execution_count": 23,
   "metadata": {},
   "outputs": [
    {
     "name": "stdout",
     "output_type": "stream",
     "text": [
      "Threshold:  1.2728065078661983e-05\n"
     ]
    }
   ],
   "source": [
    "transations_val = utils.get_person_balanced_df(df, person, categories, cat_vars, numeric_vars)\n",
    "df_transations_val = transations_val[0][0]\n",
    "labels_val = transations_val[1][0]\n",
    "scaler = MinMaxScaler()\n",
    "x_test_val = scaler.fit_transform(df_transations_val)\n",
    "\n",
    "x_test_recon_val = autoencoder_model.predict(x_test_val)\n",
    "reconstruction_scores_val = np.mean((x_test_val - x_test_recon_val)**2, axis=1)\n",
    "anomaly_data = pd.DataFrame({'recon_score':reconstruction_scores_val})\n",
    "threshold = anomaly_data['recon_score'].median()\n",
    "print(\"Threshold: \", threshold)"
   ]
  },
  {
   "cell_type": "code",
   "execution_count": 24,
   "metadata": {},
   "outputs": [],
   "source": [
    "transations_val_2 = utils.get_person_total_df(df, person, categories, cat_vars, numeric_vars)\n",
    "df_transations_val_2 = transations_val_2[0][0]\n",
    "labels_val_2 = transations_val_2[1][0]\n",
    "scaler = MinMaxScaler()\n",
    "x_test_val_2 = scaler.fit_transform(df_transations_val_2)\n",
    "\n",
    "x_test_recon = autoencoder_model.predict(x_test_val_2)\n",
    "reconstruction_scores_2 = np.mean((x_test_val_2 - x_test_recon)**2, axis=1)\n",
    "anomaly_data = pd.DataFrame({'recon_score':reconstruction_scores_2})\n",
    "pred_labels_2 = (reconstruction_scores_2 < threshold).astype(int)"
   ]
  },
  {
   "cell_type": "code",
   "execution_count": 25,
   "metadata": {},
   "outputs": [
    {
     "data": {
      "text/plain": [
       "0.9486802353315312"
      ]
     },
     "execution_count": 25,
     "metadata": {},
     "output_type": "execute_result"
    }
   ],
   "source": [
    "accuracy_score(pred_labels_2, labels_val_2)"
   ]
  },
  {
   "cell_type": "code",
   "execution_count": 26,
   "metadata": {},
   "outputs": [
    {
     "data": {
      "text/plain": [
       "<AxesSubplot:xlabel='Reconstruction Score', ylabel='Frequency'>"
      ]
     },
     "execution_count": 26,
     "metadata": {},
     "output_type": "execute_result"
    },
    {
     "data": {
      "image/png": "[encoded data removed]",
      "text/plain": [
       "<Figure size 640x480 with 1 Axes>"
      ]
     },
     "metadata": {},
     "output_type": "display_data"
    }
   ],
   "source": [
    "plt.xlabel('Reconstruction Score')\n",
    "df_a = pd.DataFrame()\n",
    "df_a['recon_score'] = reconstruction_scores_2\n",
    "minim, maxim = df_a['recon_score'].min(), df_a['recon_score'].max()\n",
    "df_a['recon_score'].plot.hist(bins=200, range=[minim, maxim])"
   ]
  },
  {
   "cell_type": "code",
   "execution_count": 27,
   "metadata": {},
   "outputs": [
    {
     "name": "stdout",
     "output_type": "stream",
     "text": [
      "Confusion Matrix: \n"
     ]
    },
    {
     "data": {
      "image/png": "[encoded data removed]",
      "text/plain": [
       "<Figure size 640x480 with 2 Axes>"
      ]
     },
     "metadata": {},
     "output_type": "display_data"
    }
   ],
   "source": [
    "print ('Confusion Matrix: ')\n",
    "results = confusion_matrix(labels_val_2, pred_labels_2) \n",
    "utils.plot_confusion_matrix(results, ['Anomaly','Normal'])"
   ]
  },
  {
   "cell_type": "markdown",
   "metadata": {},
   "source": [
    "## For all persons"
   ]
  },
  {
   "cell_type": "code",
   "execution_count": 28,
   "metadata": {},
   "outputs": [],
   "source": [
    "def calc_accuracy(name: str):\n",
    "    #Train\n",
    "    transations = utils.get_person_true_transations_df(df, person, categories, cat_vars, numeric_vars)\n",
    "    df_transations = transations[0][0]\n",
    "    labels = transations[1][0]\n",
    "    x_train, x_test, y_train, y_test = train_test_split(df_transations, labels, test_size=.2, random_state=42)\n",
    "    scaler = MinMaxScaler()\n",
    "    x_train = scaler.fit_transform(df_transations)\n",
    "    x_test = scaler.transform(x_test)\n",
    "    x_train = x_train.astype(np.float32)\n",
    "    x_test = x_test.astype(np.float32)\n",
    "    autoencoder_model, encoder_model = create_model()\n",
    "    batch_size = len(x_train)//10\n",
    "    train_history = autoencoder_model.fit(x_train, x_train,\n",
    "        shuffle=True,\n",
    "        epochs=max_epochs,\n",
    "        batch_size=batch_size,\n",
    "        validation_data=(x_test, x_test)\n",
    "        #callbacks=[tensorboard_callback]\n",
    "        )\n",
    "    #Find Threshold\n",
    "    transations_val = utils.get_person_balanced_df(df, person, categories, cat_vars, numeric_vars)\n",
    "    df_transations_val = transations_val[0][0]\n",
    "    labels_val = transations_val[1][0]\n",
    "    scaler = MinMaxScaler()\n",
    "    x_test_val = scaler.fit_transform(df_transations_val)\n",
    "    x_test_recon_val = autoencoder_model.predict(x_test_val)\n",
    "    reconstruction_scores_val = np.mean((x_test_val - x_test_recon_val)**2, axis=1)\n",
    "    anomaly_data = pd.DataFrame({'recon_score':reconstruction_scores_val})\n",
    "    threshold = anomaly_data['recon_score'].median()\n",
    "    \n",
    "    # Validate\n",
    "    transations_val_2 = utils.get_person_total_df(df, person, categories, cat_vars, numeric_vars)\n",
    "    df_transations_val_2 = transations_val_2[0][0]\n",
    "    labels_val_2 = transations_val_2[1][0]\n",
    "    scaler = MinMaxScaler()\n",
    "    x_test_val_2 = scaler.fit_transform(df_transations_val_2)\n",
    "\n",
    "    x_test_recon = autoencoder_model.predict(x_test_val_2)\n",
    "    reconstruction_scores_2 = np.mean((x_test_val_2 - x_test_recon)**2, axis=1)\n",
    "    anomaly_data = pd.DataFrame({'recon_score':reconstruction_scores_2})\n",
    "    pred_labels_2 = (reconstruction_scores_2 < threshold).astype(int)\n",
    "\n",
    "    return accuracy_score(labels_val_2, pred_labels_2)"
   ]
  },
  {
   "cell_type": "code",
   "execution_count": 29,
   "metadata": {},
   "outputs": [
    {
     "name": "stdout",
     "output_type": "stream",
     "text": [
      "Epoch 1/15\n",
      "11/11 [==============================] - 1s 67ms/step - loss: 0.0022 - accuracy: 0.2552 - val_loss: 0.0020 - val_accuracy: 0.3005\n",
      "Epoch 2/15\n",
      "11/11 [==============================] - 1s 57ms/step - loss: 0.0020 - accuracy: 0.3582 - val_loss: 0.0015 - val_accuracy: 0.4809\n",
      "Epoch 3/15\n",
      "11/11 [==============================] - 1s 59ms/step - loss: 0.0016 - accuracy: 0.4315 - val_loss: 0.0013 - val_accuracy: 0.4809\n",
      "Epoch 4/15\n",
      "11/11 [==============================] - 0s 36ms/step - loss: 0.0015 - accuracy: 0.4611 - val_loss: 0.0012 - val_accuracy: 0.5082\n",
      "Epoch 5/15\n",
      "11/11 [==============================] - 0s 42ms/step - loss: 0.0014 - accuracy: 0.4819 - val_loss: 0.0012 - val_accuracy: 0.5355\n",
      "Epoch 6/15\n",
      "11/11 [==============================] - 1s 49ms/step - loss: 0.0014 - accuracy: 0.5082 - val_loss: 0.0012 - val_accuracy: 0.5792\n",
      "Epoch 7/15\n",
      "11/11 [==============================] - 1s 56ms/step - loss: 0.0013 - accuracy: 0.5476 - val_loss: 0.0011 - val_accuracy: 0.5792\n",
      "Epoch 8/15\n",
      "11/11 [==============================] - 0s 27ms/step - loss: 0.0013 - accuracy: 0.5586 - val_loss: 0.0011 - val_accuracy: 0.5956\n",
      "Epoch 9/15\n",
      "11/11 [==============================] - 1s 52ms/step - loss: 0.0012 - accuracy: 0.5728 - val_loss: 0.0010 - val_accuracy: 0.5956\n",
      "Epoch 10/15\n",
      "11/11 [==============================] - 0s 46ms/step - loss: 0.0012 - accuracy: 0.5794 - val_loss: 9.9868e-04 - val_accuracy: 0.6011\n",
      "Epoch 11/15\n",
      "11/11 [==============================] - 1s 65ms/step - loss: 0.0011 - accuracy: 0.5750 - val_loss: 9.8346e-04 - val_accuracy: 0.6011\n",
      "Epoch 12/15\n",
      "11/11 [==============================] - 0s 43ms/step - loss: 0.0011 - accuracy: 0.5849 - val_loss: 9.8046e-04 - val_accuracy: 0.6011\n",
      "Epoch 13/15\n",
      "11/11 [==============================] - 1s 58ms/step - loss: 0.0011 - accuracy: 0.5849 - val_loss: 9.9082e-04 - val_accuracy: 0.6339\n",
      "Epoch 14/15\n",
      "11/11 [==============================] - 1s 60ms/step - loss: 0.0011 - accuracy: 0.5772 - val_loss: 9.8115e-04 - val_accuracy: 0.6011\n",
      "Epoch 15/15\n",
      "11/11 [==============================] - 1s 66ms/step - loss: 0.0011 - accuracy: 0.5915 - val_loss: 9.7929e-04 - val_accuracy: 0.6339\n",
      "Epoch 1/15\n",
      "11/11 [==============================] - 1s 49ms/step - loss: 0.0023 - accuracy: 0.2174 - val_loss: 0.0021 - val_accuracy: 0.2374\n",
      "Epoch 2/15\n",
      "11/11 [==============================] - 0s 31ms/step - loss: 0.0020 - accuracy: 0.2402 - val_loss: 0.0018 - val_accuracy: 0.2374\n",
      "Epoch 3/15\n",
      "11/11 [==============================] - 0s 23ms/step - loss: 0.0018 - accuracy: 0.3005 - val_loss: 0.0018 - val_accuracy: 0.3927\n",
      "Epoch 4/15\n",
      "11/11 [==============================] - 0s 32ms/step - loss: 0.0018 - accuracy: 0.3735 - val_loss: 0.0016 - val_accuracy: 0.3927\n",
      "Epoch 5/15\n",
      "11/11 [==============================] - 0s 47ms/step - loss: 0.0017 - accuracy: 0.4256 - val_loss: 0.0016 - val_accuracy: 0.4384\n",
      "Epoch 6/15\n",
      "11/11 [==============================] - 0s 41ms/step - loss: 0.0016 - accuracy: 0.4758 - val_loss: 0.0015 - val_accuracy: 0.4612\n",
      "Epoch 7/15\n",
      "11/11 [==============================] - 0s 33ms/step - loss: 0.0015 - accuracy: 0.4932 - val_loss: 0.0013 - val_accuracy: 0.4612\n",
      "Epoch 8/15\n",
      "11/11 [==============================] - 0s 22ms/step - loss: 0.0014 - accuracy: 0.5169 - val_loss: 0.0013 - val_accuracy: 0.4886\n",
      "Epoch 9/15\n",
      "11/11 [==============================] - 0s 27ms/step - loss: 0.0013 - accuracy: 0.5333 - val_loss: 0.0013 - val_accuracy: 0.5205\n",
      "Epoch 10/15\n",
      "11/11 [==============================] - 0s 25ms/step - loss: 0.0013 - accuracy: 0.5105 - val_loss: 0.0013 - val_accuracy: 0.4886\n",
      "Epoch 11/15\n",
      "11/11 [==============================] - 0s 44ms/step - loss: 0.0013 - accuracy: 0.5196 - val_loss: 0.0013 - val_accuracy: 0.4886\n",
      "Epoch 12/15\n",
      "11/11 [==============================] - 0s 39ms/step - loss: 0.0013 - accuracy: 0.5178 - val_loss: 0.0013 - val_accuracy: 0.4886\n",
      "Epoch 13/15\n",
      "11/11 [==============================] - 0s 38ms/step - loss: 0.0013 - accuracy: 0.5361 - val_loss: 0.0013 - val_accuracy: 0.5297\n",
      "Epoch 14/15\n",
      "11/11 [==============================] - 0s 24ms/step - loss: 0.0013 - accuracy: 0.5498 - val_loss: 0.0012 - val_accuracy: 0.5616\n",
      "Epoch 15/15\n",
      "11/11 [==============================] - 1s 61ms/step - loss: 0.0012 - accuracy: 0.5644 - val_loss: 0.0012 - val_accuracy: 0.5616\n",
      "Epoch 1/15\n",
      "11/11 [==============================] - 1s 58ms/step - loss: 0.0023 - accuracy: 0.1370 - val_loss: 0.0022 - val_accuracy: 0.1594\n",
      "Epoch 2/15\n",
      "11/11 [==============================] - 0s 17ms/step - loss: 0.0021 - accuracy: 0.2595 - val_loss: 0.0018 - val_accuracy: 0.3768\n",
      "Epoch 3/15\n",
      "11/11 [==============================] - 0s 21ms/step - loss: 0.0019 - accuracy: 0.4198 - val_loss: 0.0017 - val_accuracy: 0.4348\n",
      "Epoch 4/15\n",
      "11/11 [==============================] - 0s 32ms/step - loss: 0.0017 - accuracy: 0.4490 - val_loss: 0.0014 - val_accuracy: 0.4348\n",
      "Epoch 5/15\n",
      "11/11 [==============================] - 0s 21ms/step - loss: 0.0015 - accuracy: 0.5015 - val_loss: 0.0014 - val_accuracy: 0.4928\n",
      "Epoch 6/15\n",
      "11/11 [==============================] - 0s 13ms/step - loss: 0.0014 - accuracy: 0.5160 - val_loss: 0.0013 - val_accuracy: 0.5507\n",
      "Epoch 7/15\n",
      "11/11 [==============================] - 0s 39ms/step - loss: 0.0013 - accuracy: 0.5918 - val_loss: 0.0012 - val_accuracy: 0.5507\n",
      "Epoch 8/15\n",
      "11/11 [==============================] - 0s 44ms/step - loss: 0.0013 - accuracy: 0.6122 - val_loss: 0.0012 - val_accuracy: 0.5507\n",
      "Epoch 9/15\n",
      "11/11 [==============================] - 0s 20ms/step - loss: 0.0013 - accuracy: 0.5918 - val_loss: 0.0011 - val_accuracy: 0.6232\n",
      "Epoch 10/15\n",
      "11/11 [==============================] - 0s 22ms/step - loss: 0.0012 - accuracy: 0.6385 - val_loss: 0.0011 - val_accuracy: 0.6232\n",
      "Epoch 11/15\n",
      "11/11 [==============================] - 0s 34ms/step - loss: 0.0012 - accuracy: 0.6531 - val_loss: 0.0011 - val_accuracy: 0.6232\n",
      "Epoch 12/15\n",
      "11/11 [==============================] - 1s 49ms/step - loss: 0.0011 - accuracy: 0.6531 - val_loss: 0.0010 - val_accuracy: 0.6232\n",
      "Epoch 13/15\n",
      "11/11 [==============================] - 0s 17ms/step - loss: 0.0011 - accuracy: 0.6531 - val_loss: 9.9920e-04 - val_accuracy: 0.6232\n",
      "Epoch 14/15\n",
      "11/11 [==============================] - 0s 11ms/step - loss: 0.0011 - accuracy: 0.6531 - val_loss: 9.9034e-04 - val_accuracy: 0.6232\n",
      "Epoch 15/15\n",
      "11/11 [==============================] - 0s 17ms/step - loss: 0.0011 - accuracy: 0.6531 - val_loss: 9.8070e-04 - val_accuracy: 0.6232\n",
      "Epoch 1/15\n",
      "11/11 [==============================] - 1s 41ms/step - loss: 0.0022 - accuracy: 0.2841 - val_loss: 0.0017 - val_accuracy: 0.3538\n",
      "Epoch 2/15\n",
      "11/11 [==============================] - 0s 41ms/step - loss: 0.0017 - accuracy: 0.3835 - val_loss: 0.0014 - val_accuracy: 0.4670\n",
      "Epoch 3/15\n",
      "11/11 [==============================] - 0s 20ms/step - loss: 0.0015 - accuracy: 0.4574 - val_loss: 0.0012 - val_accuracy: 0.5519\n",
      "Epoch 4/15\n",
      "11/11 [==============================] - 0s 22ms/step - loss: 0.0014 - accuracy: 0.5161 - val_loss: 0.0012 - val_accuracy: 0.5189\n",
      "Epoch 5/15\n",
      "11/11 [==============================] - 0s 20ms/step - loss: 0.0014 - accuracy: 0.5483 - val_loss: 0.0011 - val_accuracy: 0.6745\n",
      "Epoch 6/15\n",
      "11/11 [==============================] - 0s 18ms/step - loss: 0.0013 - accuracy: 0.5919 - val_loss: 0.0011 - val_accuracy: 0.6745\n",
      "Epoch 7/15\n",
      "11/11 [==============================] - 0s 27ms/step - loss: 0.0013 - accuracy: 0.6316 - val_loss: 0.0010 - val_accuracy: 0.6745\n",
      "Epoch 8/15\n",
      "11/11 [==============================] - 0s 32ms/step - loss: 0.0012 - accuracy: 0.6449 - val_loss: 9.2640e-04 - val_accuracy: 0.6745\n",
      "Epoch 9/15\n",
      "11/11 [==============================] - 1s 55ms/step - loss: 0.0011 - accuracy: 0.6468 - val_loss: 8.3292e-04 - val_accuracy: 0.6745\n",
      "Epoch 10/15\n",
      "11/11 [==============================] - 1s 69ms/step - loss: 9.8883e-04 - accuracy: 0.6477 - val_loss: 7.9994e-04 - val_accuracy: 0.6745\n",
      "Epoch 11/15\n",
      "11/11 [==============================] - 1s 72ms/step - loss: 9.4199e-04 - accuracy: 0.6477 - val_loss: 7.7153e-04 - val_accuracy: 0.6981\n",
      "Epoch 12/15\n",
      "11/11 [==============================] - 0s 33ms/step - loss: 9.2238e-04 - accuracy: 0.6600 - val_loss: 7.5938e-04 - val_accuracy: 0.6981\n",
      "Epoch 13/15\n",
      "11/11 [==============================] - 1s 48ms/step - loss: 9.1601e-04 - accuracy: 0.6667 - val_loss: 7.4418e-04 - val_accuracy: 0.6981\n",
      "Epoch 14/15\n",
      "11/11 [==============================] - 0s 48ms/step - loss: 8.9793e-04 - accuracy: 0.6572 - val_loss: 7.5494e-04 - val_accuracy: 0.6981\n",
      "Epoch 15/15\n",
      "11/11 [==============================] - 0s 43ms/step - loss: 8.9513e-04 - accuracy: 0.6705 - val_loss: 7.3652e-04 - val_accuracy: 0.6745\n",
      "Epoch 1/15\n",
      "11/11 [==============================] - 1s 74ms/step - loss: 0.0020 - accuracy: 0.4805 - val_loss: 0.0014 - val_accuracy: 0.5699\n",
      "Epoch 2/15\n",
      "11/11 [==============================] - 0s 43ms/step - loss: 0.0015 - accuracy: 0.5433 - val_loss: 0.0011 - val_accuracy: 0.5699\n",
      "Epoch 3/15\n",
      "11/11 [==============================] - 0s 19ms/step - loss: 0.0012 - accuracy: 0.5433 - val_loss: 0.0011 - val_accuracy: 0.6237\n",
      "Epoch 4/15\n",
      "11/11 [==============================] - 0s 29ms/step - loss: 0.0012 - accuracy: 0.6017 - val_loss: 0.0010 - val_accuracy: 0.6237\n",
      "Epoch 5/15\n",
      "11/11 [==============================] - 0s 33ms/step - loss: 0.0011 - accuracy: 0.6169 - val_loss: 9.7245e-04 - val_accuracy: 0.6129\n",
      "Epoch 6/15\n",
      "11/11 [==============================] - 0s 29ms/step - loss: 0.0011 - accuracy: 0.6364 - val_loss: 9.5283e-04 - val_accuracy: 0.6129\n",
      "Epoch 7/15\n",
      "11/11 [==============================] - 0s 30ms/step - loss: 0.0010 - accuracy: 0.6364 - val_loss: 9.1480e-04 - val_accuracy: 0.6667\n",
      "Epoch 8/15\n",
      "11/11 [==============================] - 0s 17ms/step - loss: 9.7215e-04 - accuracy: 0.6688 - val_loss: 8.7094e-04 - val_accuracy: 0.7204\n",
      "Epoch 9/15\n",
      "11/11 [==============================] - 0s 28ms/step - loss: 9.1779e-04 - accuracy: 0.6905 - val_loss: 8.2512e-04 - val_accuracy: 0.7204\n",
      "Epoch 10/15\n",
      "11/11 [==============================] - 0s 29ms/step - loss: 8.7788e-04 - accuracy: 0.7100 - val_loss: 8.0829e-04 - val_accuracy: 0.7204\n",
      "Epoch 11/15\n",
      "11/11 [==============================] - 0s 20ms/step - loss: 8.5138e-04 - accuracy: 0.7013 - val_loss: 8.1021e-04 - val_accuracy: 0.7204\n",
      "Epoch 12/15\n",
      "11/11 [==============================] - 0s 32ms/step - loss: 8.4502e-04 - accuracy: 0.7251 - val_loss: 7.7894e-04 - val_accuracy: 0.7204\n",
      "Epoch 13/15\n",
      "11/11 [==============================] - 0s 34ms/step - loss: 8.2784e-04 - accuracy: 0.7251 - val_loss: 7.7681e-04 - val_accuracy: 0.7204\n",
      "Epoch 14/15\n",
      "11/11 [==============================] - 0s 39ms/step - loss: 8.1740e-04 - accuracy: 0.7165 - val_loss: 7.8749e-04 - val_accuracy: 0.7204\n",
      "Epoch 15/15\n",
      "11/11 [==============================] - 0s 17ms/step - loss: 8.0888e-04 - accuracy: 0.7229 - val_loss: 7.7643e-04 - val_accuracy: 0.7204\n"
     ]
    },
    {
     "ename": "",
     "evalue": "",
     "output_type": "error",
     "traceback": [
      "\u001b[1;31mCanceled future for execute_request message before replies were done"
     ]
    },
    {
     "ename": "",
     "evalue": "",
     "output_type": "error",
     "traceback": [
      "\u001b[1;31mThe Kernel crashed while executing code in the the current cell or a previous cell. Please review the code in the cell(s) to identify a possible cause of the failure. Click <a href='https://aka.ms/vscodeJupyterKernelCrash'>here</a> for more info. View Jupyter <a href='command:jupyter.viewOutput'>log</a> for further details."
     ]
    }
   ],
   "source": [
    "persons = list(df['Cardholder Last Name'].unique())\n",
    "quantities = df['Cardholder Last Name'].value_counts()\n",
    "values = []\n",
    "names = []\n",
    "\n",
    "for person in persons:\n",
    "    if quantities[person] > 1000:\n",
    "        accuracy = calc_accuracy(person)\n",
    "        values.append(accuracy) \n",
    "        names.append(quantities[person])"
   ]
  },
  {
   "cell_type": "code",
   "execution_count": null,
   "metadata": {},
   "outputs": [],
   "source": [
    "plt.figure()\n",
    "plt.plot(names, values, \".\")\n",
    "plt.title(\"Accuracy vs Operations Quantities\")\n",
    "plt.xlabel(\"Operations Quantities\")\n",
    "plt.ylabel(\"Accuracy\")"
   ]
  },
  {
   "cell_type": "code",
   "execution_count": null,
   "metadata": {},
   "outputs": [],
   "source": [
    "values"
   ]
  },
  {
   "cell_type": "code",
   "execution_count": null,
   "metadata": {},
   "outputs": [],
   "source": [
    "names"
   ]
  },
  {
   "cell_type": "code",
   "execution_count": null,
   "metadata": {},
   "outputs": [],
   "source": []
  }
 ],
 "metadata": {
  "kernelspec": {
   "display_name": "Python 3.9.7 ('ct213')",
   "language": "python",
   "name": "python3"
  },
  "language_info": {
   "codemirror_mode": {
    "name": "ipython",
    "version": 3
   },
   "file_extension": ".py",
   "mimetype": "text/x-python",
   "name": "python",
   "nbconvert_exporter": "python",
   "pygments_lexer": "ipython3",
   "version": "3.9.7"
  },
  "orig_nbformat": 4,
  "vscode": {
   "interpreter": {
    "hash": "598095a934dcb3bb155002048116345118bc48a932469ffb0579a7d18e5f6768"
   }
  }
 },
 "nbformat": 4,
 "nbformat_minor": 2
}
