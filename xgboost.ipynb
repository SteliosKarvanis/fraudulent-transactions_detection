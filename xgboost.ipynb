{
 "cells": [
  {
   "cell_type": "code",
   "execution_count": null,
   "metadata": {},
   "outputs": [],
   "source": [
    "import pandas as pd\n",
    "import numpy as np\n",
    "import xgboost as xgb\n",
    "from sklearn.metrics import roc_auc_score, confusion_matrix, accuracy_score, classification_report, roc_curve\n",
    "from sklearn.model_selection import train_test_split\n",
    "import matplotlib.pyplot as plt\n",
    "\n",
    "import tensorflow as tf\n",
    "from tensorflow.keras import optimizers\n",
    "from tensorflow.keras.models import Model\n",
    "from tensorflow.keras.layers import Input, Dense, Dropout\n",
    "from tensorflow.keras.utils import plot_model\n",
    "\n",
    "import utils\n",
    "import datetime\n",
    "import os\n",
    "np.random.seed(42)"
   ]
  },
  {
   "cell_type": "markdown",
   "metadata": {},
   "source": [
    "#  XGBoost"
   ]
  },
  {
   "cell_type": "markdown",
   "metadata": {},
   "source": [
    "Defining constants"
   ]
  },
  {
   "cell_type": "code",
   "execution_count": null,
   "metadata": {},
   "outputs": [],
   "source": [
    "#person = 'Davis'\n",
    "person = 'JOURNEY HOUSE TRAVEL INC'\n",
    "cat_vars = ['Merchant Category Code (MCC)']\n",
    "numeric_vars = ['Amount']\n",
    "categories = ['Cardholder Last Name', 'Cardholder First Initial'] + numeric_vars + cat_vars\n",
    "num_rounds = 10\n",
    "params = {\n",
    "    'max_depth':         12,\n",
    "    'max_leaves':        2**12,\n",
    "    'alpha':             0.9,\n",
    "    'eta':               0.1,\n",
    "    'gamma':             0.1,\n",
    "    'learning_rate':     0.1,\n",
    "    'subsample':         1,\n",
    "    'reg_lambda':        1,\n",
    "    'scale_pos_weight':  2,\n",
    "    'tree_method':       'gpu_hist',\n",
    "    'objective':         'binary:logistic',\n",
    "}"
   ]
  },
  {
   "cell_type": "code",
   "execution_count": null,
   "metadata": {},
   "outputs": [],
   "source": [
    "df = utils.get_df()"
   ]
  },
  {
   "cell_type": "code",
   "execution_count": null,
   "metadata": {},
   "outputs": [],
   "source": [
    "transations = utils.get_person_balanced_df(df, person, categories, cat_vars, numeric_vars)\n",
    "df_transations = transations[0][0]\n",
    "labels = transations[1][0]"
   ]
  },
  {
   "cell_type": "markdown",
   "metadata": {},
   "source": [
    "Training model"
   ]
  },
  {
   "cell_type": "code",
   "execution_count": null,
   "metadata": {},
   "outputs": [],
   "source": [
    "x_train, x_test, y_train, y_test = train_test_split(df_transations, labels, test_size=.25, random_state=42)\n",
    "dtrain = xgb.DMatrix(x_train, label=y_train)\n",
    "dtest = xgb.DMatrix(x_test, label=y_test)\n",
    "evals = [(dtest, 'test'), (dtrain, 'train')]"
   ]
  },
  {
   "cell_type": "code",
   "execution_count": null,
   "metadata": {},
   "outputs": [],
   "source": [
    "model = xgb.train(params, dtrain, num_rounds, evals=evals)"
   ]
  },
  {
   "cell_type": "markdown",
   "metadata": {},
   "source": [
    "Test Model"
   ]
  },
  {
   "cell_type": "code",
   "execution_count": null,
   "metadata": {},
   "outputs": [],
   "source": [
    "threshold = .5\n",
    "true_labels = y_test.astype(int)\n",
    "preds = model.predict(dtest)\n",
    "pred_labels = (preds > threshold).astype(int)"
   ]
  },
  {
   "cell_type": "code",
   "execution_count": null,
   "metadata": {},
   "outputs": [],
   "source": [
    "auc = roc_auc_score(true_labels, preds)\n",
    "print('Auc:',auc)\n",
    "print ('Accuracy:', accuracy_score(true_labels, pred_labels))"
   ]
  },
  {
   "cell_type": "code",
   "execution_count": null,
   "metadata": {},
   "outputs": [],
   "source": [
    "results = confusion_matrix(true_labels, pred_labels) \n",
    "\n",
    "print ('Confusion Matrix :')\n",
    "\n",
    "utils.plot_confusion_matrix(results, ['Normal','Anomaly'])"
   ]
  },
  {
   "cell_type": "code",
   "execution_count": null,
   "metadata": {},
   "outputs": [],
   "source": [
    "fpr, tpr, thresholds = roc_curve(true_labels, pred_labels)\n",
    "roc_auc = roc_auc_score(true_labels, pred_labels)\n",
    "\n",
    "plt.figure()\n",
    "plt.plot(fpr, tpr, color='darkorange', lw=1, label='ROC curve (area = %0.2f)' % roc_auc)\n",
    "plt.plot([0, 1], [0, 1], color='navy', linestyle='--')\n",
    "plt.xlim([0.0, 1.0])\n",
    "plt.ylim([0.0, 1.05])\n",
    "plt.xlabel('False Positive Rate')\n",
    "plt.ylabel('True Positive Rate')\n",
    "plt.title('Receiver operating characteristic')\n",
    "plt.legend(loc=\"lower right\")\n",
    "plt.show()"
   ]
  },
  {
   "cell_type": "code",
   "execution_count": null,
   "metadata": {},
   "outputs": [],
   "source": [
    "ax = xgb.plot_importance(model)\n",
    "fig = ax.figure\n",
    "fig.set_size_inches(10, 10)"
   ]
  },
  {
   "cell_type": "markdown",
   "metadata": {},
   "source": [
    "Test for all Dataset"
   ]
  },
  {
   "cell_type": "code",
   "execution_count": null,
   "metadata": {},
   "outputs": [],
   "source": [
    "transations_val_2 = utils.get_person_total_df(df, person, categories, cat_vars, numeric_vars)\n",
    "df_transations_val_2 = transations_val_2[0][0]\n",
    "labels_val_2 = transations_val_2[1][0]"
   ]
  },
  {
   "cell_type": "code",
   "execution_count": null,
   "metadata": {},
   "outputs": [],
   "source": [
    "dtest_val = xgb.DMatrix(df_transations_val_2, label=labels_val_2)"
   ]
  },
  {
   "cell_type": "code",
   "execution_count": null,
   "metadata": {},
   "outputs": [],
   "source": [
    "threshold = .5\n",
    "true_labels_val = labels_val_2.astype(int)"
   ]
  },
  {
   "cell_type": "code",
   "execution_count": null,
   "metadata": {},
   "outputs": [],
   "source": [
    "preds_val = model.predict(dtest_val)\n",
    "pred_labels_val = (preds_val > threshold).astype(int)"
   ]
  },
  {
   "cell_type": "code",
   "execution_count": null,
   "metadata": {},
   "outputs": [],
   "source": [
    "auc = roc_auc_score(labels_val_2, pred_labels_val)\n",
    "print(auc)"
   ]
  },
  {
   "cell_type": "code",
   "execution_count": null,
   "metadata": {},
   "outputs": [],
   "source": [
    "print ('Accuracy:', accuracy_score(true_labels_val, pred_labels_val))"
   ]
  },
  {
   "cell_type": "markdown",
   "metadata": {},
   "source": [
    "Test for all persons"
   ]
  },
  {
   "cell_type": "code",
   "execution_count": null,
   "metadata": {},
   "outputs": [],
   "source": [
    "def calc_accuracy(name: str):\n",
    "    # Train Model\n",
    "    transations = utils.get_person_balanced_df(df, name, categories, cat_vars, numeric_vars)\n",
    "    df_transations = transations[0][0]\n",
    "    labels = transations[1][0]\n",
    "    x_train, x_test, y_train, y_test = train_test_split(df_transations, labels, test_size=.25, random_state=42)\n",
    "    dtrain = xgb.DMatrix(x_train, label=y_train)\n",
    "    dtest = xgb.DMatrix(x_test, label=y_test)\n",
    "    evals = [(dtest, 'test'), (dtrain, 'train')]\n",
    "    model = xgb.train(params, dtrain, num_rounds, evals=evals)\n",
    "    #Validation\n",
    "    transations_val = utils.get_person_total_df(df, person, categories, cat_vars, numeric_vars)\n",
    "    df_transations_val = transations_val[0][0]\n",
    "    labels_val = transations_val[1][0]\n",
    "    dtest_val = xgb.DMatrix(df_transations_val, label=labels_val)\n",
    "    true_labels_val = labels_val.astype(int)\n",
    "    preds_val = model.predict(dtest_val)\n",
    "    pred_labels_val = (preds_val > threshold).astype(int)\n",
    "    return accuracy_score(true_labels_val, pred_labels_val)"
   ]
  },
  {
   "cell_type": "code",
   "execution_count": null,
   "metadata": {},
   "outputs": [],
   "source": [
    "persons = list(df['Cardholder Last Name'].unique())\n",
    "quantities = df['Cardholder Last Name'].value_counts()\n",
    "values = []\n",
    "names = []\n",
    "\n",
    "for person in persons:\n",
    "    if quantities[person] > 2000:\n",
    "        accuracy = calc_accuracy(person)\n",
    "        values.append(accuracy) \n",
    "        names.append(quantities[person])"
   ]
  },
  {
   "cell_type": "code",
   "execution_count": null,
   "metadata": {},
   "outputs": [],
   "source": [
    "plt.figure()\n",
    "plt.plot(names, values, \".\")\n",
    "plt.title(\"Accuracy vs Operations Quantities\")\n",
    "plt.xlabel(\"Operations Quantities\")\n",
    "plt.ylabel(\"Accuracy\")"
   ]
  }
 ],
 "metadata": {
  "kernelspec": {
   "display_name": "Python 3.9.13 ('ct213')",
   "language": "python",
   "name": "python3"
  },
  "language_info": {
   "codemirror_mode": {
    "name": "ipython",
    "version": 3
   },
   "file_extension": ".py",
   "mimetype": "text/x-python",
   "name": "python",
   "nbconvert_exporter": "python",
   "pygments_lexer": "ipython3",
   "version": "3.9.7"
  },
  "orig_nbformat": 4,
  "vscode": {
   "interpreter": {
    "hash": "598095a934dcb3bb155002048116345118bc48a932469ffb0579a7d18e5f6768"
   }
  }
 },
 "nbformat": 4,
 "nbformat_minor": 2
}
